{
 "cells": [
  {
   "cell_type": "code",
   "execution_count": 1,
   "id": "e026b539-7171-4b0e-b486-d9d0a370549a",
   "metadata": {},
   "outputs": [],
   "source": [
    "!pip install -qU langchain langchain_cohere"
   ]
  },
  {
   "cell_type": "markdown",
   "id": "fbe1ff1d-b657-4ed6-9eef-ebec41012b10",
   "metadata": {},
   "source": [
    "**Option one**"
   ]
  },
  {
   "cell_type": "code",
   "execution_count": 2,
   "id": "7ea51933-a6fe-403a-a24d-ced10ed7bee6",
   "metadata": {},
   "outputs": [],
   "source": [
    "from langchain.tools import tool\n",
    "\n",
    "@tool\n",
    "def add(a: int, b: int) -> int:\n",
    "    \"\"\"Adds a and b\"\"\"\n",
    "    return a + b\n",
    "\n",
    "@tool\n",
    "def multiply(a: int, b: int) -> int:\n",
    "    \"\"\"Multiplies a and b\"\"\"\n",
    "    return a * b\n",
    "\n",
    "tools = [add, multiply]"
   ]
  },
  {
   "cell_type": "markdown",
   "id": "be8bff98-b71b-40c8-8192-ffb0ddc3fffe",
   "metadata": {},
   "source": [
    "**Option two**"
   ]
  },
  {
   "cell_type": "code",
   "execution_count": 5,
   "id": "484a31b9-90d4-4af3-b81b-d6af22365688",
   "metadata": {},
   "outputs": [],
   "source": [
    "from langchain_core.pydantic_v1 import BaseModel, Field\n",
    "\n",
    "class Add(BaseModel):\n",
    "    \"\"\"Add two integers together\"\"\"\n",
    "    a: int = Field(..., description=\"First integer\")\n",
    "    b: int = Field(..., description=\"Second integer\")\n",
    "\n",
    "class Multiply(BaseModel):\n",
    "    \"\"\"Multiply two integers together\"\"\"\n",
    "    a: int = Field(..., description=\"First integer\")\n",
    "    b: int = Field(..., description=\"Second integer\")\n",
    "\n",
    "tools = [Add, Multiply]"
   ]
  },
  {
   "cell_type": "code",
   "execution_count": 6,
   "id": "adfb54ea-856d-479f-913b-18ec882217a9",
   "metadata": {},
   "outputs": [
    {
     "name": "stdin",
     "output_type": "stream",
     "text": [
      "Cohere API key: ········\n"
     ]
    }
   ],
   "source": [
    "import os\n",
    "import getpass\n",
    "os.environ[\"COHERE_API_KEY\"] = getpass.getpass(\"Cohere API key:\")"
   ]
  },
  {
   "cell_type": "code",
   "execution_count": 7,
   "id": "6d9dc0fc-2a76-4dd5-96f3-a1846eb2c27d",
   "metadata": {},
   "outputs": [],
   "source": [
    "from langchain_cohere import ChatCohere\n",
    "\n",
    "llm = ChatCohere(mode=\"command-r\", temperature=0)"
   ]
  },
  {
   "cell_type": "code",
   "execution_count": 8,
   "id": "e00b6971-d2cf-4f52-9520-67e415f074ce",
   "metadata": {},
   "outputs": [
    {
     "data": {
      "text/plain": [
       "AIMessage(content='Cohere was founded in 2019 by Aidan Gomez, Nick Frosst, and Ivan Zhang. The company is headquartered in Toronto, Canada, and has since expanded its operations to several other locations. Cohere has gained recognition for its innovative large language models and natural language processing capabilities, offering advanced AI solutions to a diverse range of industries and use cases.', additional_kwargs={'documents': None, 'citations': None, 'search_results': None, 'search_queries': None, 'is_search_required': None, 'generation_id': 'dc13fc95-739c-4201-a6d0-aa94ab444d52'}, response_metadata={'documents': None, 'citations': None, 'search_results': None, 'search_queries': None, 'is_search_required': None, 'generation_id': 'dc13fc95-739c-4201-a6d0-aa94ab444d52'}, id='run-a1e52adc-0197-4318-8e73-35093a57adbb-0')"
      ]
     },
     "execution_count": 8,
     "metadata": {},
     "output_type": "execute_result"
    }
   ],
   "source": [
    "llm.invoke(\"When Cohere was founded?\")"
   ]
  },
  {
   "cell_type": "code",
   "execution_count": 9,
   "id": "45d6cec7-d33c-49dd-9513-a77dc2463c93",
   "metadata": {},
   "outputs": [],
   "source": [
    "llm_with_tools = llm.bind_tools(tools)"
   ]
  },
  {
   "cell_type": "code",
   "execution_count": 10,
   "id": "0dbbb944-f6a9-4ad6-b013-931fbc94323f",
   "metadata": {},
   "outputs": [
    {
     "data": {
      "text/plain": [
       "AIMessage(content='', additional_kwargs={'documents': None, 'citations': None, 'search_results': None, 'search_queries': None, 'is_search_required': None, 'generation_id': '2f6b9471-c39b-4944-a27f-7df1e7ad06ba', 'tool_calls': [{'id': '2f6b9471-c39b-4944-a27f-7df1e7ad06ba', 'function': {'name': 'Multiply', 'arguments': '{\"a\": 3, \"b\": 2}'}, 'type': 'function'}]}, response_metadata={'documents': None, 'citations': None, 'search_results': None, 'search_queries': None, 'is_search_required': None, 'generation_id': '2f6b9471-c39b-4944-a27f-7df1e7ad06ba', 'tool_calls': [{'id': '2f6b9471-c39b-4944-a27f-7df1e7ad06ba', 'function': {'name': 'Multiply', 'arguments': '{\"a\": 3, \"b\": 2}'}, 'type': 'function'}]}, id='run-449e0181-2f3c-4f2e-ac76-b5bad449b17d-0', tool_calls=[{'name': 'Multiply', 'args': {'a': 3, 'b': 2}, 'id': None}])"
      ]
     },
     "execution_count": 10,
     "metadata": {},
     "output_type": "execute_result"
    }
   ],
   "source": [
    "llm_with_tools.invoke(\"what is 3*2?\")"
   ]
  },
  {
   "cell_type": "code",
   "execution_count": 11,
   "id": "55698c7f-82cf-429c-92c6-d00b6bcb52f7",
   "metadata": {},
   "outputs": [
    {
     "data": {
      "text/plain": [
       "AIMessage(content='', additional_kwargs={'documents': None, 'citations': None, 'search_results': None, 'search_queries': None, 'is_search_required': None, 'generation_id': '0f32f47b-c2d8-404c-8092-63f3834a6f8b'}, response_metadata={'documents': None, 'citations': None, 'search_results': None, 'search_queries': None, 'is_search_required': None, 'generation_id': '0f32f47b-c2d8-404c-8092-63f3834a6f8b'}, id='run-a59b4270-8a3e-4c09-8baa-a17beb0e541a-0')"
      ]
     },
     "execution_count": 11,
     "metadata": {},
     "output_type": "execute_result"
    }
   ],
   "source": [
    "llm_with_tools.invoke(\"What is 5-2?\")"
   ]
  },
  {
   "cell_type": "code",
   "execution_count": 12,
   "id": "42e04dd0-cd58-4fdd-95f6-d672c960e315",
   "metadata": {},
   "outputs": [
    {
     "data": {
      "text/plain": [
       "AIMessage(content='', additional_kwargs={'documents': None, 'citations': None, 'search_results': None, 'search_queries': None, 'is_search_required': None, 'generation_id': '9ecc9e2a-2af5-4dca-bc28-fb6179f576d4', 'tool_calls': [{'id': '9ecc9e2a-2af5-4dca-bc28-fb6179f576d4', 'function': {'name': 'Multiply', 'arguments': '{\"a\": 2, \"b\": 3}'}, 'type': 'function'}, {'id': '9ecc9e2a-2af5-4dca-bc28-fb6179f576d4', 'function': {'name': 'Add', 'arguments': '{\"a\": 5, \"b\": 6}'}, 'type': 'function'}]}, response_metadata={'documents': None, 'citations': None, 'search_results': None, 'search_queries': None, 'is_search_required': None, 'generation_id': '9ecc9e2a-2af5-4dca-bc28-fb6179f576d4', 'tool_calls': [{'id': '9ecc9e2a-2af5-4dca-bc28-fb6179f576d4', 'function': {'name': 'Multiply', 'arguments': '{\"a\": 2, \"b\": 3}'}, 'type': 'function'}, {'id': '9ecc9e2a-2af5-4dca-bc28-fb6179f576d4', 'function': {'name': 'Add', 'arguments': '{\"a\": 5, \"b\": 6}'}, 'type': 'function'}]}, id='run-cb651069-913f-4e9e-9439-8d164902ad1b-0', tool_calls=[{'name': 'Multiply', 'args': {'a': 2, 'b': 3}, 'id': None}, {'name': 'Add', 'args': {'a': 5, 'b': 6}, 'id': None}])"
      ]
     },
     "execution_count": 12,
     "metadata": {},
     "output_type": "execute_result"
    }
   ],
   "source": [
    "llm_with_tools.invoke(\"What is 5+2*3?\")"
   ]
  },
  {
   "cell_type": "markdown",
   "id": "67d1fb90-73bc-409c-b1c2-9cd037c6ada7",
   "metadata": {},
   "source": [
    "**Use output parser**"
   ]
  },
  {
   "cell_type": "code",
   "execution_count": 15,
   "id": "9c4dbb89-af8b-42e3-b14a-bf6ea0ba3c06",
   "metadata": {},
   "outputs": [
    {
     "data": {
      "text/plain": [
       "[Multiply(a=2, b=3), Add(a=5, b=6)]"
      ]
     },
     "execution_count": 15,
     "metadata": {},
     "output_type": "execute_result"
    }
   ],
   "source": [
    "from langchain_core.output_parsers.openai_tools import PydanticToolsParser\n",
    "\n",
    "chain = llm_with_tools | PydanticToolsParser(tools=[Multiply, Add])\n",
    "chain.invoke(\"what is 5+2*3?\")"
   ]
  },
  {
   "cell_type": "markdown",
   "id": "9b6b48f6-a560-46b3-9861-d181501367cb",
   "metadata": {},
   "source": [
    "**Streaming**"
   ]
  },
  {
   "cell_type": "code",
   "execution_count": 32,
   "id": "2fac08aa-b50e-40db-872f-fb34efbe3d05",
   "metadata": {},
   "outputs": [
    {
     "name": "stdout",
     "output_type": "stream",
     "text": [
      "[{'name': 'Add', 'args': '{\"a\": 5, \"b\": 2}', 'id': 'b737a453-3a12-4f50-9728-9e58fcb2627b', 'index': None}, {'name': 'Multiply', 'args': '{\"a\": 10, \"b\": 3}', 'id': 'b737a453-3a12-4f50-9728-9e58fcb2627b', 'index': None}]\n"
     ]
    }
   ],
   "source": [
    "async for chunk in llm_with_tools.astream(\"what is 5+2? and what is 10*3?\"):\n",
    "    print(chunk.tool_call_chunks)"
   ]
  },
  {
   "cell_type": "code",
   "execution_count": 30,
   "id": "111ba661-5e6f-472d-978c-cc4a3421c348",
   "metadata": {},
   "outputs": [
    {
     "name": "stdout",
     "output_type": "stream",
     "text": [
      "(AIMessageChunk(content='', additional_kwargs={'documents': None, 'citations': None, 'search_results': None, 'search_queries': None, 'is_search_required': None, 'generation_id': 'f8897602-935d-48a9-996d-bfeeb30da37b', 'tool_calls': [{'id': 'f8897602-935d-48a9-996d-bfeeb30da37b', 'function': {'name': 'Multiply', 'arguments': '{\"a\": 2, \"b\": 3}'}, 'type': 'function'}, {'id': 'f8897602-935d-48a9-996d-bfeeb30da37b', 'function': {'name': 'Add', 'arguments': '{\"a\": 5, \"b\": 6}'}, 'type': 'function'}]}, response_metadata={'documents': None, 'citations': None, 'search_results': None, 'search_queries': None, 'is_search_required': None, 'generation_id': 'f8897602-935d-48a9-996d-bfeeb30da37b', 'tool_calls': [{'id': 'f8897602-935d-48a9-996d-bfeeb30da37b', 'function': {'name': 'Multiply', 'arguments': '{\"a\": 2, \"b\": 3}'}, 'type': 'function'}, {'id': 'f8897602-935d-48a9-996d-bfeeb30da37b', 'function': {'name': 'Add', 'arguments': '{\"a\": 5, \"b\": 6}'}, 'type': 'function'}]}, id='run-125bfc9a-c4a4-4d32-8c0d-efec7d43a4fe', tool_calls=[{'name': 'Multiply', 'args': {'a': 2, 'b': 3}, 'id': 'f8897602-935d-48a9-996d-bfeeb30da37b'}, {'name': 'Add', 'args': {'a': 5, 'b': 6}, 'id': 'f8897602-935d-48a9-996d-bfeeb30da37b'}], tool_call_chunks=[{'name': 'Multiply', 'args': '{\"a\": 2, \"b\": 3}', 'id': 'f8897602-935d-48a9-996d-bfeeb30da37b', 'index': None}, {'name': 'Add', 'args': '{\"a\": 5, \"b\": 6}', 'id': 'f8897602-935d-48a9-996d-bfeeb30da37b', 'index': None}]),)\n"
     ]
    }
   ],
   "source": [
    "first = True\n",
    "async for chunk in llm_with_tools.astream(\"what is 5+2*3?\"):\n",
    "    if first:\n",
    "        gathered = chunk,\n",
    "        first = False\n",
    "    else:\n",
    "        gathered += chunk\n",
    "    print(gathered)"
   ]
  },
  {
   "cell_type": "code",
   "execution_count": null,
   "id": "30720614-faee-423d-a0c7-24ff02150182",
   "metadata": {},
   "outputs": [],
   "source": []
  }
 ],
 "metadata": {
  "kernelspec": {
   "display_name": "Python 3 (ipykernel)",
   "language": "python",
   "name": "python3"
  },
  "language_info": {
   "codemirror_mode": {
    "name": "ipython",
    "version": 3
   },
   "file_extension": ".py",
   "mimetype": "text/x-python",
   "name": "python",
   "nbconvert_exporter": "python",
   "pygments_lexer": "ipython3",
   "version": "3.11.4"
  }
 },
 "nbformat": 4,
 "nbformat_minor": 5
}
