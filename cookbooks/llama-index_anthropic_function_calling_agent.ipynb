{
 "cells": [
  {
   "cell_type": "code",
   "execution_count": 16,
   "id": "404e12b7-e7e3-4d94-a6b6-1e729f2099ad",
   "metadata": {},
   "outputs": [],
   "source": [
    "! pip install -qU llama-index llama-index-llms-anthropic"
   ]
  },
  {
   "cell_type": "code",
   "execution_count": 4,
   "id": "b97bf06e-43b2-40e1-b766-fe32df8bd4bf",
   "metadata": {},
   "outputs": [],
   "source": [
    "from llama_index.llms.anthropic import Anthropic\n",
    "from llama_index.core.tools import FunctionTool\n",
    "\n",
    "import nest_asyncio\n",
    "nest_asyncio.apply()"
   ]
  },
  {
   "cell_type": "code",
   "execution_count": 6,
   "id": "9d13941f-3162-4bef-916a-16ab42ca9519",
   "metadata": {},
   "outputs": [],
   "source": [
    "def add(a: int, b: int) -> int:\n",
    "    \"\"\"Add two integers\"\"\"\n",
    "    return a + b\n",
    "\n",
    "tool_add = FunctionTool.from_defaults(fn=add)"
   ]
  },
  {
   "cell_type": "code",
   "execution_count": 7,
   "id": "e5fbe252-1bf8-445d-96b0-623943392032",
   "metadata": {},
   "outputs": [],
   "source": [
    "def multiply(a: int, b: int) -> int:\n",
    "    \"\"\"Multiply two integers\"\"\"\n",
    "    return a * b\n",
    "\n",
    "tool_multiply = FunctionTool.from_defaults(fn=multiply)"
   ]
  },
  {
   "cell_type": "code",
   "execution_count": 8,
   "id": "83a3afa1-9125-44c2-927d-fa23c14a950c",
   "metadata": {},
   "outputs": [
    {
     "name": "stdin",
     "output_type": "stream",
     "text": [
      "Anthropic API key: ········\n"
     ]
    }
   ],
   "source": [
    "import os\n",
    "import getpass\n",
    "os.environ[\"ANTHROPIC_API_KEY\"] = getpass.getpass(\"Anthropic API key:\")"
   ]
  },
  {
   "cell_type": "code",
   "execution_count": 9,
   "id": "79eb3fcb-9492-4440-ac36-bc77233a2c55",
   "metadata": {},
   "outputs": [],
   "source": [
    "model_id = \"claude-3-opus-20240229\"\n",
    "llm = Anthropic(model=model_id)"
   ]
  },
  {
   "cell_type": "code",
   "execution_count": 11,
   "id": "cf2c1565-3a8e-4f6a-8910-474c027ae3af",
   "metadata": {},
   "outputs": [],
   "source": [
    "from llama_index.core.agent import FunctionCallingAgentWorker, AgentRunner\n",
    "\n",
    "agent_worker = FunctionCallingAgentWorker.from_tools(\n",
    "    [tool_add, tool_multiply],\n",
    "    llm=llm,\n",
    "    verbose=True,\n",
    "    allow_parallel_tool_calls=False\n",
    ")\n",
    "\n",
    "agent =  AgentRunner(agent_worker)"
   ]
  },
  {
   "cell_type": "code",
   "execution_count": 12,
   "id": "5c418e1f-82da-4429-a2f4-487532725760",
   "metadata": {},
   "outputs": [
    {
     "name": "stdout",
     "output_type": "stream",
     "text": [
      "Added user message to memory: what is 3+2*5?\n",
      "=== LLM Response ===\n",
      "<thinking>\n",
      "The user is asking to calculate the result of the mathematical expression 3+2*5. This involves both addition and multiplication.\n",
      "\n",
      "To calculate this, the relevant tool is the multiply function to first calculate 2*5, and then the add function can be used to add 3 to that result.\n",
      "\n",
      "The multiply function requires parameters a and b, which can be inferred as:\n",
      "a = 2 \n",
      "b = 5\n",
      "\n",
      "The add function then requires parameters a and b, which would be:\n",
      "a = 3\n",
      "b = the result of 2*5\n",
      "\n",
      "Both functions have the required parameters available, so I can proceed with the calculation.\n",
      "</thinking>\n",
      "=== Calling Function ===\n",
      "Calling function: multiply with args: {\"a\": 2, \"b\": 5}\n",
      "=== Function Output ===\n",
      "10\n",
      "=== Calling Function ===\n",
      "Calling function: add with args: {\"a\": 3, \"b\": 10}\n",
      "=== Function Output ===\n",
      "13\n",
      "=== LLM Response ===\n",
      "Therefore, the result of 3+2*5 is 13.\n",
      "assistant: Therefore, the result of 3+2*5 is 13.\n"
     ]
    }
   ],
   "source": [
    "response = agent.chat(\"what is 3+2*5?\")\n",
    "print(response)"
   ]
  },
  {
   "cell_type": "code",
   "execution_count": 13,
   "id": "b220fd2c-f04d-43ac-b912-f73586171e1d",
   "metadata": {},
   "outputs": [],
   "source": [
    "agent_worker.allow_parallel_tool_calls=True\n",
    "agent = AgentRunner(agent_worker)"
   ]
  },
  {
   "cell_type": "code",
   "execution_count": 14,
   "id": "b5f94499-6e11-4197-a817-0fa31f049f79",
   "metadata": {},
   "outputs": [
    {
     "name": "stdout",
     "output_type": "stream",
     "text": [
      "Added user message to memory: What is 3 * 5 + 2 * 3?\n",
      "=== LLM Response ===\n",
      "<thinking>\n",
      "The user has asked to calculate the result of the mathematical expression 3 * 5 + 2 * 3.\n",
      "\n",
      "To calculate this, we can break it down into the following steps:\n",
      "1. Multiply 3 * 5 = 15\n",
      "2. Multiply 2 * 3 = 6 \n",
      "3. Add the results of steps 1 and 2: 15 + 6 = 21\n",
      "\n",
      "The relevant tool to perform this calculation is the add function, since the last step is adding the results of the multiplications.\n",
      "\n",
      "To call the add function, we need two integer parameters a and b. From the analysis above, we can infer that:\n",
      "a = 15 (the result of 3 * 5)  \n",
      "b = 6 (the result of 2 * 3)\n",
      "\n",
      "Since we have values for both required parameters, we can proceed with calling the add function.\n",
      "</thinking>\n",
      "=== Calling Function ===\n",
      "Calling function: add with args: {\"a\": 15, \"b\": 6}\n",
      "=== Function Output ===\n",
      "21\n",
      "=== LLM Response ===\n",
      "Therefore, the result of 3 * 5 + 2 * 3 is 21.\n",
      "assistant: Therefore, the result of 3 * 5 + 2 * 3 is 21.\n"
     ]
    }
   ],
   "source": [
    "response = await agent.achat(\"What is 3 * 5 + 2 * 3?\")\n",
    "print(response)"
   ]
  },
  {
   "cell_type": "code",
   "execution_count": null,
   "id": "2b275a60-3229-4397-b03e-c21bfbc5934e",
   "metadata": {},
   "outputs": [],
   "source": []
  }
 ],
 "metadata": {
  "kernelspec": {
   "display_name": "Python 3 (ipykernel)",
   "language": "python",
   "name": "python3"
  },
  "language_info": {
   "codemirror_mode": {
    "name": "ipython",
    "version": 3
   },
   "file_extension": ".py",
   "mimetype": "text/x-python",
   "name": "python",
   "nbconvert_exporter": "python",
   "pygments_lexer": "ipython3",
   "version": "3.11.4"
  }
 },
 "nbformat": 4,
 "nbformat_minor": 5
}
