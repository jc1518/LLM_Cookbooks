{
 "cells": [
  {
   "cell_type": "code",
   "execution_count": null,
   "id": "4c3b6354-ac08-45fd-bd84-8e95cde11841",
   "metadata": {},
   "outputs": [],
   "source": [
    "! pip install -qU llama-index llama-index-llms-anthropic llama-index-embeddings-bedrock "
   ]
  },
  {
   "cell_type": "code",
   "execution_count": 10,
   "id": "4c27836b-97b7-4f01-8fd5-1cdba9affbbe",
   "metadata": {},
   "outputs": [
    {
     "name": "stdin",
     "output_type": "stream",
     "text": [
      "Anthropic API key: ········\n"
     ]
    }
   ],
   "source": [
    "import os\n",
    "import getpass\n",
    "os.environ[\"ANTHROPIC_API_KEY\"] = getpass.getpass(\"Anthropic API key:\")"
   ]
  },
  {
   "cell_type": "code",
   "execution_count": 11,
   "id": "2ae7ffd9-9fd3-4e1e-85ca-ca062d8a4ffb",
   "metadata": {},
   "outputs": [
    {
     "name": "stdout",
     "output_type": "stream",
     "text": [
      "--2024-04-12 15:45:39--  https://raw.githubusercontent.com/run-llama/llama_index/main/docs/docs/examples/data/10k/uber_2021.pdf\n",
      "Resolving raw.githubusercontent.com (raw.githubusercontent.com)... 185.199.108.133, 185.199.109.133, 185.199.110.133, ...\n",
      "Connecting to raw.githubusercontent.com (raw.githubusercontent.com)|185.199.108.133|:443... connected.\n",
      "HTTP request sent, awaiting response... 200 OK\n",
      "Length: 1880483 (1.8M) [application/octet-stream]\n",
      "Saving to: ‘../samples/data/10k/uber_2021.pdf’\n",
      "\n",
      "../samples/data/10k 100%[===================>]   1.79M  4.80MB/s    in 0.4s    \n",
      "\n",
      "2024-04-12 15:45:40 (4.80 MB/s) - ‘../samples/data/10k/uber_2021.pdf’ saved [1880483/1880483]\n",
      "\n"
     ]
    }
   ],
   "source": [
    "!mkdir -p '../samples/data/10k/'\n",
    "!wget 'https://raw.githubusercontent.com/run-llama/llama_index/main/docs/docs/examples/data/10k/uber_2021.pdf' -O '../samples/data/10k/uber_2021.pdf'"
   ]
  },
  {
   "cell_type": "code",
   "execution_count": 16,
   "id": "a0e4ab89-ec49-46ee-a26e-0c5da1a2d8af",
   "metadata": {},
   "outputs": [],
   "source": [
    "from llama_index.core import SimpleDirectoryReader, VectorStoreIndex, Settings\n",
    "from llama_index.core.tools import QueryEngineTool, ToolMetadata\n",
    "from llama_index.embeddings.bedrock import BedrockEmbedding\n",
    "from llama_index.llms.anthropic import Anthropic\n",
    "\n",
    "Settings.chunk_size = 300\n",
    "Settings.chunk_overlap = 20\n",
    "\n",
    "embed = BedrockEmbedding(\n",
    "    region_name=\"us-west-2\",\n",
    "    profile_name=\"sandbox\",\n",
    "    model=\"cohere.embed-english-v3\"\n",
    ")\n",
    "\n",
    "llm = Anthropic(model=\"claude-3-opus-20240229\")"
   ]
  },
  {
   "cell_type": "code",
   "execution_count": 17,
   "id": "b6eafd94-c013-4f61-b4c8-af507528ccf7",
   "metadata": {},
   "outputs": [],
   "source": [
    "uber_docs = SimpleDirectoryReader(input_files=[\"../samples/data/10k/uber_2021.pdf\"]).load_data()"
   ]
  },
  {
   "cell_type": "code",
   "execution_count": 18,
   "id": "68909440-de08-4ece-a7dd-69b6c5809c28",
   "metadata": {},
   "outputs": [
    {
     "data": {
      "application/vnd.jupyter.widget-view+json": {
       "model_id": "de1caf706cee47349c1986aac376a10d",
       "version_major": 2,
       "version_minor": 0
      },
      "text/plain": [
       "Parsing nodes:   0%|          | 0/307 [00:00<?, ?it/s]"
      ]
     },
     "metadata": {},
     "output_type": "display_data"
    },
    {
     "data": {
      "application/vnd.jupyter.widget-view+json": {
       "model_id": "a0c4668e045742fa970ab91aa725870e",
       "version_major": 2,
       "version_minor": 0
      },
      "text/plain": [
       "Generating embeddings:   0%|          | 0/1304 [00:00<?, ?it/s]"
      ]
     },
     "metadata": {},
     "output_type": "display_data"
    }
   ],
   "source": [
    "uber_index = VectorStoreIndex.from_documents(uber_docs, embed_model=embed, show_progress=True)"
   ]
  },
  {
   "cell_type": "code",
   "execution_count": 19,
   "id": "0128b1f2-1641-43bb-8b2f-a82a0d1478ac",
   "metadata": {},
   "outputs": [],
   "source": [
    "uber_engine = uber_index.as_query_engine(similarity_top_k=3, llm=llm)"
   ]
  },
  {
   "cell_type": "code",
   "execution_count": 20,
   "id": "f8d8583f-6b60-42df-ab60-7968196249b3",
   "metadata": {},
   "outputs": [],
   "source": [
    "query_engine_tool = QueryEngineTool(\n",
    "    query_engine=uber_engine,\n",
    "    metadata=ToolMetadata(\n",
    "        name=\"uber_10k\",\n",
    "        description=(\n",
    "            \"Provides information about Uber financials for year 2021. \"\n",
    "            \"Use a detailed plain text question as input to the tool.\"\n",
    "        )\n",
    "    )\n",
    ")"
   ]
  },
  {
   "cell_type": "code",
   "execution_count": 21,
   "id": "b4e88b3a-bdf3-4073-9a3f-e80894c08fb5",
   "metadata": {},
   "outputs": [],
   "source": [
    "from llama_index.core.agent import FunctionCallingAgentWorker, AgentRunner\n",
    "\n",
    "agent_worker = FunctionCallingAgentWorker.from_tools(\n",
    "    [query_engine_tool],\n",
    "    llm=llm,\n",
    "    verbose=True\n",
    ")\n",
    "\n",
    "agent = AgentRunner(agent_worker)"
   ]
  },
  {
   "cell_type": "code",
   "execution_count": 22,
   "id": "eb425e37-2606-43b8-a6d3-d7bacfbac7da",
   "metadata": {},
   "outputs": [
    {
     "name": "stdout",
     "output_type": "stream",
     "text": [
      "Added user message to memory: Tell me both the risk factors and tailwinds for Uber?\n",
      "=== LLM Response ===\n",
      "<thinking>\n",
      "The uber_10k tool provides information about Uber's financials for 2021, which likely includes details on risk factors and tailwinds the company faces. The input parameter requires a detailed plain text question. The user's request for both risk factors and tailwinds for Uber can be answered by this tool without needing any additional information from the user.\n",
      "</thinking>\n",
      "=== Calling Function ===\n",
      "Calling function: uber_10k with args: {\"input\": \"What are the key risk factors and tailwinds mentioned for Uber in their 2021 10-K filing?\"}\n",
      "=== Function Output ===\n",
      "Based on the excerpts from Uber's 2021 10-K filing, some of the key risk factors and challenges mentioned include:\n",
      "\n",
      "- Difficulties in implementing and maintaining financial systems and processes to enable compliance across multiple offerings and jurisdictions\n",
      "- Import/export restrictions and changes in trade regulations\n",
      "- Political, social and economic instability abroad, war, terrorist attacks, security concerns, and societal crime conditions that can disrupt the global economy and impact platform users\n",
      "- Public health emergencies like the COVID-19 pandemic and other communicable diseases \n",
      "- Reduced or varied protection for intellectual property rights in some markets\n",
      "- Limited influence over minority-owned affiliates, subjecting Uber to risks including potential loss of value\n",
      "- Ability to attract and retain platform users in the face of increased competition\n",
      "- Ability to expand operations in new and existing markets while maintaining adequate growth \n",
      "- Keeping pace with technological changes in the industries Uber operates in\n",
      "- Changes in regulations affecting the business\n",
      "- Potential harm to Uber's brand or reputation\n",
      "\n",
      "The filing also mentions that Uber's operating results may fluctuate due to factors like seasonality, in addition to the risks outlined above. Expense levels and investment plans are based on estimates which have become more challenging due to the pandemic.\n",
      "=== LLM Response ===\n",
      "<search_quality_reflection>\n",
      "The results from the uber_10k tool provide a good overview of some of the key risk factors and challenges Uber faces, as outlined in their 2021 10-K filing. It covers a range of important areas like regulatory risks, competition, technological changes, and the impact of the pandemic. \n",
      "\n",
      "However, the results do not explicitly mention any tailwinds or positive factors that could benefit Uber. The question asked about both risk factors and tailwinds, but the tool output focuses mainly on the risks and challenges. To fully answer the question, some information on potential growth drivers and opportunities for Uber would also be helpful.\n",
      "</search_quality_reflection>\n",
      "<search_quality_score>3</search_quality_score>\n",
      "=== Calling Function ===\n",
      "Calling function: uber_10k with args: {\"input\": \"What are some of the key growth opportunities and tailwinds mentioned for Uber in their 2021 10-K filing?\"}\n",
      "=== Function Output ===\n",
      "Based on the context provided from Uber's 2021 10-K filing, some of the key growth opportunities and tailwinds mentioned for the company include:\n",
      "\n",
      "- Growing supply and demand on their platform\n",
      "- Increasing activity of existing platform users \n",
      "- Introducing their platform to new markets\n",
      "- Providing high-quality support to drivers, consumers, merchants, shippers, and carriers\n",
      "- Expanding their business and increasing market share and category position\n",
      "- Developing new products, offerings, and technologies\n",
      "- Identifying and acquiring or investing in complementary businesses, products, offerings or technologies\n",
      "- Penetrating suburban and rural areas and increasing rides taken outside metropolitan areas\n",
      "- Expanding into new offerings like grocery delivery through the Cornershop acquisition and alcohol delivery through the Drizly acquisition\n",
      "- Investing in new offerings and technologies in markets where Careem and Postmates operate\n",
      "\n",
      "The 10-K suggests Uber sees significant growth potential by expanding to new geographies, increasing engagement of existing users, developing innovative new products and services, and strategically acquiring companies in adjacent markets.\n",
      "=== LLM Response ===\n",
      "<search_quality_reflection>\n",
      "The additional results from the uber_10k tool provide good insight into some of the key growth opportunities and tailwinds for Uber. It covers important areas like expanding the user base, entering new markets, developing new offerings, and making strategic acquisitions.\n",
      "\n",
      "Between the information on risk factors from the initial query and the details on growth opportunities from this follow-up, I believe we now have a fairly comprehensive answer to the original question. The tool has surfaced the most relevant points from Uber's 10-K to address both the challenges and the opportunities the company sees ahead.\n",
      "</search_quality_reflection>\n",
      "<search_quality_score>4</search_quality_score>\n",
      "\n",
      "<result>\n",
      "Based on the information from Uber's 2021 10-K filing, the company faces a number of key risk factors and challenges, including:\n",
      "\n",
      "- Regulatory risks and changes in trade policies across the multiple markets it operates in\n",
      "- Increased competition and the need to attract and retain users \n",
      "- Keeping pace with rapid technological changes in its industries\n",
      "- The impact of public health emergencies like the COVID-19 pandemic\n",
      "- Potential damage to its brand and reputation\n",
      "- Limited influence over minority-owned affiliates\n",
      "- Difficulties in implementing financial systems and processes across its complex global operations\n",
      "\n",
      "At the same time, the 10-K also outlines several important growth opportunities and tailwinds for Uber, such as:\n",
      "\n",
      "- Expanding into new markets and increasing market share in existing ones\n",
      "- Growing the user base and increasing engagement of existing users\n",
      "- Developing new products, services and technologies \n",
      "- Acquiring or investing in complementary businesses to expand into adjacent markets\n",
      "- Penetrating suburban and rural areas outside of cities\n",
      "- Providing high-quality support to all the participants on its platform\n",
      "- Leveraging the growth potential of its Careem, Postmates, Cornershop and Drizly subsidiaries\n",
      "\n",
      "So in summary, while Uber does face significant risks, it also sees substantial opportunities to grow its business by expanding to new geographies, innovating on its platform, and strategically entering new market segments. Balancing the challenges and growth potential will be key to the company's future prospects.\n",
      "</result>\n",
      "assistant: <search_quality_reflection>\n",
      "The additional results from the uber_10k tool provide good insight into some of the key growth opportunities and tailwinds for Uber. It covers important areas like expanding the user base, entering new markets, developing new offerings, and making strategic acquisitions.\n",
      "\n",
      "Between the information on risk factors from the initial query and the details on growth opportunities from this follow-up, I believe we now have a fairly comprehensive answer to the original question. The tool has surfaced the most relevant points from Uber's 10-K to address both the challenges and the opportunities the company sees ahead.\n",
      "</search_quality_reflection>\n",
      "<search_quality_score>4</search_quality_score>\n",
      "\n",
      "<result>\n",
      "Based on the information from Uber's 2021 10-K filing, the company faces a number of key risk factors and challenges, including:\n",
      "\n",
      "- Regulatory risks and changes in trade policies across the multiple markets it operates in\n",
      "- Increased competition and the need to attract and retain users \n",
      "- Keeping pace with rapid technological changes in its industries\n",
      "- The impact of public health emergencies like the COVID-19 pandemic\n",
      "- Potential damage to its brand and reputation\n",
      "- Limited influence over minority-owned affiliates\n",
      "- Difficulties in implementing financial systems and processes across its complex global operations\n",
      "\n",
      "At the same time, the 10-K also outlines several important growth opportunities and tailwinds for Uber, such as:\n",
      "\n",
      "- Expanding into new markets and increasing market share in existing ones\n",
      "- Growing the user base and increasing engagement of existing users\n",
      "- Developing new products, services and technologies \n",
      "- Acquiring or investing in complementary businesses to expand into adjacent markets\n",
      "- Penetrating suburban and rural areas outside of cities\n",
      "- Providing high-quality support to all the participants on its platform\n",
      "- Leveraging the growth potential of its Careem, Postmates, Cornershop and Drizly subsidiaries\n",
      "\n",
      "So in summary, while Uber does face significant risks, it also sees substantial opportunities to grow its business by expanding to new geographies, innovating on its platform, and strategically entering new market segments. Balancing the challenges and growth potential will be key to the company's future prospects.\n",
      "</result>\n"
     ]
    }
   ],
   "source": [
    "response = agent.chat(\"Tell me both the risk factors and tailwinds for Uber?\")\n",
    "print(str(response))"
   ]
  },
  {
   "cell_type": "code",
   "execution_count": null,
   "id": "4e9ba659-254a-4aaa-95ef-4fc8d18795d0",
   "metadata": {},
   "outputs": [],
   "source": []
  }
 ],
 "metadata": {
  "kernelspec": {
   "display_name": "Python 3 (ipykernel)",
   "language": "python",
   "name": "python3"
  },
  "language_info": {
   "codemirror_mode": {
    "name": "ipython",
    "version": 3
   },
   "file_extension": ".py",
   "mimetype": "text/x-python",
   "name": "python",
   "nbconvert_exporter": "python",
   "pygments_lexer": "ipython3",
   "version": "3.11.4"
  }
 },
 "nbformat": 4,
 "nbformat_minor": 5
}
