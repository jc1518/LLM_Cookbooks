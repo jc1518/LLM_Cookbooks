{
 "cells": [
  {
   "cell_type": "code",
   "execution_count": 5,
   "id": "8820768d-6e16-4311-9123-e61f9c09ea05",
   "metadata": {},
   "outputs": [
    {
     "name": "stdout",
     "output_type": "stream",
     "text": [
      "Requirement already satisfied: embedchain in /Users/jackiexc/GitHub/LLM_Cookbooks/venv/lib/python3.11/site-packages (0.1.103)\n",
      "Collecting sentence-transformers\n",
      "  Downloading sentence_transformers-2.7.0-py3-none-any.whl.metadata (11 kB)\n",
      "Requirement already satisfied: alembic<2.0.0,>=1.13.1 in /Users/jackiexc/GitHub/LLM_Cookbooks/venv/lib/python3.11/site-packages (from embedchain) (1.13.1)\n",
      "Requirement already satisfied: beautifulsoup4<5.0.0,>=4.12.2 in /Users/jackiexc/GitHub/LLM_Cookbooks/venv/lib/python3.11/site-packages (from embedchain) (4.12.3)\n",
      "Requirement already satisfied: chromadb<0.6.0,>=0.5.0 in /Users/jackiexc/GitHub/LLM_Cookbooks/venv/lib/python3.11/site-packages (from embedchain) (0.5.0)\n",
      "Requirement already satisfied: google-cloud-aiplatform<2.0.0,>=1.26.1 in /Users/jackiexc/GitHub/LLM_Cookbooks/venv/lib/python3.11/site-packages (from embedchain) (1.51.0)\n",
      "Requirement already satisfied: gptcache<0.2.0,>=0.1.43 in /Users/jackiexc/GitHub/LLM_Cookbooks/venv/lib/python3.11/site-packages (from embedchain) (0.1.43)\n",
      "Requirement already satisfied: langchain<0.2.0,>=0.1.4 in /Users/jackiexc/GitHub/LLM_Cookbooks/venv/lib/python3.11/site-packages (from embedchain) (0.1.16)\n",
      "Requirement already satisfied: langchain-openai<0.0.6,>=0.0.5 in /Users/jackiexc/GitHub/LLM_Cookbooks/venv/lib/python3.11/site-packages (from embedchain) (0.0.5)\n",
      "Requirement already satisfied: openai>=1.1.1 in /Users/jackiexc/GitHub/LLM_Cookbooks/venv/lib/python3.11/site-packages (from embedchain) (1.16.2)\n",
      "Requirement already satisfied: posthog<4.0.0,>=3.0.2 in /Users/jackiexc/GitHub/LLM_Cookbooks/venv/lib/python3.11/site-packages (from embedchain) (3.5.0)\n",
      "Requirement already satisfied: pypdf<5.0.0,>=4.0.1 in /Users/jackiexc/GitHub/LLM_Cookbooks/venv/lib/python3.11/site-packages (from embedchain) (4.2.0)\n",
      "Requirement already satisfied: pysbd<0.4.0,>=0.3.4 in /Users/jackiexc/GitHub/LLM_Cookbooks/venv/lib/python3.11/site-packages (from embedchain) (0.3.4)\n",
      "Requirement already satisfied: python-dotenv<2.0.0,>=1.0.0 in /Users/jackiexc/GitHub/LLM_Cookbooks/venv/lib/python3.11/site-packages (from embedchain) (1.0.1)\n",
      "Requirement already satisfied: rich<14.0.0,>=13.7.0 in /Users/jackiexc/GitHub/LLM_Cookbooks/venv/lib/python3.11/site-packages (from embedchain) (13.7.1)\n",
      "Requirement already satisfied: schema<0.8.0,>=0.7.5 in /Users/jackiexc/GitHub/LLM_Cookbooks/venv/lib/python3.11/site-packages (from embedchain) (0.7.7)\n",
      "Requirement already satisfied: sqlalchemy<3.0.0,>=2.0.27 in /Users/jackiexc/GitHub/LLM_Cookbooks/venv/lib/python3.11/site-packages (from embedchain) (2.0.29)\n",
      "Requirement already satisfied: tiktoken<0.6.0,>=0.5.2 in /Users/jackiexc/GitHub/LLM_Cookbooks/venv/lib/python3.11/site-packages (from embedchain) (0.5.2)\n",
      "Collecting transformers<5.0.0,>=4.34.0 (from sentence-transformers)\n",
      "  Downloading transformers-4.41.0-py3-none-any.whl.metadata (43 kB)\n",
      "\u001b[2K     \u001b[90m━━━━━━━━━━━━━━━━━━━━━━━━━━━━━━━━━━━━━━━━\u001b[0m \u001b[32m43.8/43.8 kB\u001b[0m \u001b[31m1.1 MB/s\u001b[0m eta \u001b[36m0:00:00\u001b[0m\n",
      "\u001b[?25hRequirement already satisfied: tqdm in /Users/jackiexc/GitHub/LLM_Cookbooks/venv/lib/python3.11/site-packages (from sentence-transformers) (4.66.2)\n",
      "Collecting torch>=1.11.0 (from sentence-transformers)\n",
      "  Downloading torch-2.2.2-cp311-none-macosx_10_9_x86_64.whl.metadata (25 kB)\n",
      "Requirement already satisfied: numpy in /Users/jackiexc/GitHub/LLM_Cookbooks/venv/lib/python3.11/site-packages (from sentence-transformers) (1.26.4)\n",
      "Collecting scikit-learn (from sentence-transformers)\n",
      "  Downloading scikit_learn-1.4.2-cp311-cp311-macosx_10_9_x86_64.whl.metadata (11 kB)\n",
      "Collecting scipy (from sentence-transformers)\n",
      "  Downloading scipy-1.13.0-cp311-cp311-macosx_10_9_x86_64.whl.metadata (60 kB)\n",
      "\u001b[2K     \u001b[90m━━━━━━━━━━━━━━━━━━━━━━━━━━━━━━━━━━━━━━━━\u001b[0m \u001b[32m60.6/60.6 kB\u001b[0m \u001b[31m1.5 MB/s\u001b[0m eta \u001b[36m0:00:00\u001b[0m\n",
      "\u001b[?25hRequirement already satisfied: huggingface-hub>=0.15.1 in /Users/jackiexc/GitHub/LLM_Cookbooks/venv/lib/python3.11/site-packages (from sentence-transformers) (0.22.2)\n",
      "Requirement already satisfied: Pillow in /Users/jackiexc/GitHub/LLM_Cookbooks/venv/lib/python3.11/site-packages (from sentence-transformers) (10.3.0)\n",
      "Requirement already satisfied: Mako in /Users/jackiexc/GitHub/LLM_Cookbooks/venv/lib/python3.11/site-packages (from alembic<2.0.0,>=1.13.1->embedchain) (1.3.5)\n",
      "Requirement already satisfied: typing-extensions>=4 in /Users/jackiexc/GitHub/LLM_Cookbooks/venv/lib/python3.11/site-packages (from alembic<2.0.0,>=1.13.1->embedchain) (4.11.0)\n",
      "Requirement already satisfied: soupsieve>1.2 in /Users/jackiexc/GitHub/LLM_Cookbooks/venv/lib/python3.11/site-packages (from beautifulsoup4<5.0.0,>=4.12.2->embedchain) (2.5)\n",
      "Requirement already satisfied: build>=1.0.3 in /Users/jackiexc/GitHub/LLM_Cookbooks/venv/lib/python3.11/site-packages (from chromadb<0.6.0,>=0.5.0->embedchain) (1.2.1)\n",
      "Requirement already satisfied: requests>=2.28 in /Users/jackiexc/GitHub/LLM_Cookbooks/venv/lib/python3.11/site-packages (from chromadb<0.6.0,>=0.5.0->embedchain) (2.31.0)\n",
      "Requirement already satisfied: pydantic>=1.9 in /Users/jackiexc/GitHub/LLM_Cookbooks/venv/lib/python3.11/site-packages (from chromadb<0.6.0,>=0.5.0->embedchain) (2.6.4)\n",
      "Requirement already satisfied: chroma-hnswlib==0.7.3 in /Users/jackiexc/GitHub/LLM_Cookbooks/venv/lib/python3.11/site-packages (from chromadb<0.6.0,>=0.5.0->embedchain) (0.7.3)\n",
      "Requirement already satisfied: fastapi>=0.95.2 in /Users/jackiexc/GitHub/LLM_Cookbooks/venv/lib/python3.11/site-packages (from chromadb<0.6.0,>=0.5.0->embedchain) (0.110.1)\n",
      "Requirement already satisfied: uvicorn>=0.18.3 in /Users/jackiexc/GitHub/LLM_Cookbooks/venv/lib/python3.11/site-packages (from uvicorn[standard]>=0.18.3->chromadb<0.6.0,>=0.5.0->embedchain) (0.29.0)\n",
      "Requirement already satisfied: onnxruntime>=1.14.1 in /Users/jackiexc/GitHub/LLM_Cookbooks/venv/lib/python3.11/site-packages (from chromadb<0.6.0,>=0.5.0->embedchain) (1.17.1)\n",
      "Requirement already satisfied: opentelemetry-api>=1.2.0 in /Users/jackiexc/GitHub/LLM_Cookbooks/venv/lib/python3.11/site-packages (from chromadb<0.6.0,>=0.5.0->embedchain) (1.24.0)\n",
      "Requirement already satisfied: opentelemetry-exporter-otlp-proto-grpc>=1.2.0 in /Users/jackiexc/GitHub/LLM_Cookbooks/venv/lib/python3.11/site-packages (from chromadb<0.6.0,>=0.5.0->embedchain) (1.24.0)\n",
      "Requirement already satisfied: opentelemetry-instrumentation-fastapi>=0.41b0 in /Users/jackiexc/GitHub/LLM_Cookbooks/venv/lib/python3.11/site-packages (from chromadb<0.6.0,>=0.5.0->embedchain) (0.45b0)\n",
      "Requirement already satisfied: opentelemetry-sdk>=1.2.0 in /Users/jackiexc/GitHub/LLM_Cookbooks/venv/lib/python3.11/site-packages (from chromadb<0.6.0,>=0.5.0->embedchain) (1.24.0)\n",
      "Requirement already satisfied: tokenizers>=0.13.2 in /Users/jackiexc/GitHub/LLM_Cookbooks/venv/lib/python3.11/site-packages (from chromadb<0.6.0,>=0.5.0->embedchain) (0.15.2)\n",
      "Requirement already satisfied: pypika>=0.48.9 in /Users/jackiexc/GitHub/LLM_Cookbooks/venv/lib/python3.11/site-packages (from chromadb<0.6.0,>=0.5.0->embedchain) (0.48.9)\n",
      "Requirement already satisfied: overrides>=7.3.1 in /Users/jackiexc/GitHub/LLM_Cookbooks/venv/lib/python3.11/site-packages (from chromadb<0.6.0,>=0.5.0->embedchain) (7.7.0)\n",
      "Requirement already satisfied: importlib-resources in /Users/jackiexc/GitHub/LLM_Cookbooks/venv/lib/python3.11/site-packages (from chromadb<0.6.0,>=0.5.0->embedchain) (6.4.0)\n",
      "Requirement already satisfied: grpcio>=1.58.0 in /Users/jackiexc/GitHub/LLM_Cookbooks/venv/lib/python3.11/site-packages (from chromadb<0.6.0,>=0.5.0->embedchain) (1.63.0)\n",
      "Requirement already satisfied: bcrypt>=4.0.1 in /Users/jackiexc/GitHub/LLM_Cookbooks/venv/lib/python3.11/site-packages (from chromadb<0.6.0,>=0.5.0->embedchain) (4.1.2)\n",
      "Requirement already satisfied: typer>=0.9.0 in /Users/jackiexc/GitHub/LLM_Cookbooks/venv/lib/python3.11/site-packages (from chromadb<0.6.0,>=0.5.0->embedchain) (0.9.4)\n",
      "Requirement already satisfied: kubernetes>=28.1.0 in /Users/jackiexc/GitHub/LLM_Cookbooks/venv/lib/python3.11/site-packages (from chromadb<0.6.0,>=0.5.0->embedchain) (29.0.0)\n",
      "Requirement already satisfied: tenacity>=8.2.3 in /Users/jackiexc/GitHub/LLM_Cookbooks/venv/lib/python3.11/site-packages (from chromadb<0.6.0,>=0.5.0->embedchain) (8.2.3)\n",
      "Requirement already satisfied: PyYAML>=6.0.0 in /Users/jackiexc/GitHub/LLM_Cookbooks/venv/lib/python3.11/site-packages (from chromadb<0.6.0,>=0.5.0->embedchain) (6.0.1)\n",
      "Requirement already satisfied: mmh3>=4.0.1 in /Users/jackiexc/GitHub/LLM_Cookbooks/venv/lib/python3.11/site-packages (from chromadb<0.6.0,>=0.5.0->embedchain) (4.1.0)\n",
      "Requirement already satisfied: orjson>=3.9.12 in /Users/jackiexc/GitHub/LLM_Cookbooks/venv/lib/python3.11/site-packages (from chromadb<0.6.0,>=0.5.0->embedchain) (3.10.0)\n",
      "Requirement already satisfied: google-api-core!=2.0.*,!=2.1.*,!=2.2.*,!=2.3.*,!=2.4.*,!=2.5.*,!=2.6.*,!=2.7.*,<3.0.0dev,>=1.34.1 in /Users/jackiexc/GitHub/LLM_Cookbooks/venv/lib/python3.11/site-packages (from google-api-core[grpc]!=2.0.*,!=2.1.*,!=2.2.*,!=2.3.*,!=2.4.*,!=2.5.*,!=2.6.*,!=2.7.*,<3.0.0dev,>=1.34.1->google-cloud-aiplatform<2.0.0,>=1.26.1->embedchain) (2.19.0)\n",
      "Requirement already satisfied: google-auth<3.0.0dev,>=2.14.1 in /Users/jackiexc/GitHub/LLM_Cookbooks/venv/lib/python3.11/site-packages (from google-cloud-aiplatform<2.0.0,>=1.26.1->embedchain) (2.29.0)\n",
      "Requirement already satisfied: proto-plus<2.0.0dev,>=1.22.0 in /Users/jackiexc/GitHub/LLM_Cookbooks/venv/lib/python3.11/site-packages (from google-cloud-aiplatform<2.0.0,>=1.26.1->embedchain) (1.23.0)\n",
      "Requirement already satisfied: protobuf!=3.20.0,!=3.20.1,!=4.21.0,!=4.21.1,!=4.21.2,!=4.21.3,!=4.21.4,!=4.21.5,<5.0.0dev,>=3.19.5 in /Users/jackiexc/GitHub/LLM_Cookbooks/venv/lib/python3.11/site-packages (from google-cloud-aiplatform<2.0.0,>=1.26.1->embedchain) (4.25.3)\n",
      "Requirement already satisfied: packaging>=14.3 in /Users/jackiexc/GitHub/LLM_Cookbooks/venv/lib/python3.11/site-packages (from google-cloud-aiplatform<2.0.0,>=1.26.1->embedchain) (23.2)\n",
      "Requirement already satisfied: google-cloud-storage<3.0.0dev,>=1.32.0 in /Users/jackiexc/GitHub/LLM_Cookbooks/venv/lib/python3.11/site-packages (from google-cloud-aiplatform<2.0.0,>=1.26.1->embedchain) (2.16.0)\n",
      "Requirement already satisfied: google-cloud-bigquery!=3.20.0,<4.0.0dev,>=1.15.0 in /Users/jackiexc/GitHub/LLM_Cookbooks/venv/lib/python3.11/site-packages (from google-cloud-aiplatform<2.0.0,>=1.26.1->embedchain) (3.23.0)\n",
      "Requirement already satisfied: google-cloud-resource-manager<3.0.0dev,>=1.3.3 in /Users/jackiexc/GitHub/LLM_Cookbooks/venv/lib/python3.11/site-packages (from google-cloud-aiplatform<2.0.0,>=1.26.1->embedchain) (1.12.3)\n",
      "Requirement already satisfied: shapely<3.0.0dev in /Users/jackiexc/GitHub/LLM_Cookbooks/venv/lib/python3.11/site-packages (from google-cloud-aiplatform<2.0.0,>=1.26.1->embedchain) (2.0.4)\n",
      "Requirement already satisfied: docstring-parser<1 in /Users/jackiexc/GitHub/LLM_Cookbooks/venv/lib/python3.11/site-packages (from google-cloud-aiplatform<2.0.0,>=1.26.1->embedchain) (0.15)\n",
      "Requirement already satisfied: cachetools in /Users/jackiexc/GitHub/LLM_Cookbooks/venv/lib/python3.11/site-packages (from gptcache<0.2.0,>=0.1.43->embedchain) (5.3.3)\n",
      "Requirement already satisfied: filelock in /Users/jackiexc/GitHub/LLM_Cookbooks/venv/lib/python3.11/site-packages (from huggingface-hub>=0.15.1->sentence-transformers) (3.13.3)\n",
      "Requirement already satisfied: fsspec>=2023.5.0 in /Users/jackiexc/GitHub/LLM_Cookbooks/venv/lib/python3.11/site-packages (from huggingface-hub>=0.15.1->sentence-transformers) (2024.3.1)\n",
      "Requirement already satisfied: aiohttp<4.0.0,>=3.8.3 in /Users/jackiexc/GitHub/LLM_Cookbooks/venv/lib/python3.11/site-packages (from langchain<0.2.0,>=0.1.4->embedchain) (3.9.3)\n",
      "Requirement already satisfied: dataclasses-json<0.7,>=0.5.7 in /Users/jackiexc/GitHub/LLM_Cookbooks/venv/lib/python3.11/site-packages (from langchain<0.2.0,>=0.1.4->embedchain) (0.6.4)\n",
      "Requirement already satisfied: jsonpatch<2.0,>=1.33 in /Users/jackiexc/GitHub/LLM_Cookbooks/venv/lib/python3.11/site-packages (from langchain<0.2.0,>=0.1.4->embedchain) (1.33)\n",
      "Requirement already satisfied: langchain-community<0.1,>=0.0.32 in /Users/jackiexc/GitHub/LLM_Cookbooks/venv/lib/python3.11/site-packages (from langchain<0.2.0,>=0.1.4->embedchain) (0.0.32)\n",
      "Requirement already satisfied: langchain-core<0.2.0,>=0.1.42 in /Users/jackiexc/GitHub/LLM_Cookbooks/venv/lib/python3.11/site-packages (from langchain<0.2.0,>=0.1.4->embedchain) (0.1.52)\n",
      "Requirement already satisfied: langchain-text-splitters<0.1,>=0.0.1 in /Users/jackiexc/GitHub/LLM_Cookbooks/venv/lib/python3.11/site-packages (from langchain<0.2.0,>=0.1.4->embedchain) (0.0.1)\n",
      "Requirement already satisfied: langsmith<0.2.0,>=0.1.17 in /Users/jackiexc/GitHub/LLM_Cookbooks/venv/lib/python3.11/site-packages (from langchain<0.2.0,>=0.1.4->embedchain) (0.1.40)\n",
      "Requirement already satisfied: anyio<5,>=3.5.0 in /Users/jackiexc/GitHub/LLM_Cookbooks/venv/lib/python3.11/site-packages (from openai>=1.1.1->embedchain) (4.3.0)\n",
      "Requirement already satisfied: distro<2,>=1.7.0 in /Users/jackiexc/GitHub/LLM_Cookbooks/venv/lib/python3.11/site-packages (from openai>=1.1.1->embedchain) (1.9.0)\n",
      "Requirement already satisfied: httpx<1,>=0.23.0 in /Users/jackiexc/GitHub/LLM_Cookbooks/venv/lib/python3.11/site-packages (from openai>=1.1.1->embedchain) (0.27.0)\n",
      "Requirement already satisfied: sniffio in /Users/jackiexc/GitHub/LLM_Cookbooks/venv/lib/python3.11/site-packages (from openai>=1.1.1->embedchain) (1.3.1)\n",
      "Requirement already satisfied: six>=1.5 in /Users/jackiexc/GitHub/LLM_Cookbooks/venv/lib/python3.11/site-packages (from posthog<4.0.0,>=3.0.2->embedchain) (1.16.0)\n",
      "Requirement already satisfied: monotonic>=1.5 in /Users/jackiexc/GitHub/LLM_Cookbooks/venv/lib/python3.11/site-packages (from posthog<4.0.0,>=3.0.2->embedchain) (1.6)\n",
      "Requirement already satisfied: backoff>=1.10.0 in /Users/jackiexc/GitHub/LLM_Cookbooks/venv/lib/python3.11/site-packages (from posthog<4.0.0,>=3.0.2->embedchain) (2.2.1)\n",
      "Requirement already satisfied: python-dateutil>2.1 in /Users/jackiexc/GitHub/LLM_Cookbooks/venv/lib/python3.11/site-packages (from posthog<4.0.0,>=3.0.2->embedchain) (2.9.0.post0)\n",
      "Requirement already satisfied: markdown-it-py>=2.2.0 in /Users/jackiexc/GitHub/LLM_Cookbooks/venv/lib/python3.11/site-packages (from rich<14.0.0,>=13.7.0->embedchain) (3.0.0)\n",
      "Requirement already satisfied: pygments<3.0.0,>=2.13.0 in /Users/jackiexc/GitHub/LLM_Cookbooks/venv/lib/python3.11/site-packages (from rich<14.0.0,>=13.7.0->embedchain) (2.17.2)\n",
      "Requirement already satisfied: greenlet!=0.4.17 in /Users/jackiexc/GitHub/LLM_Cookbooks/venv/lib/python3.11/site-packages (from sqlalchemy<3.0.0,>=2.0.27->embedchain) (3.0.3)\n",
      "Requirement already satisfied: regex>=2022.1.18 in /Users/jackiexc/GitHub/LLM_Cookbooks/venv/lib/python3.11/site-packages (from tiktoken<0.6.0,>=0.5.2->embedchain) (2023.12.25)\n",
      "Requirement already satisfied: sympy in /Users/jackiexc/GitHub/LLM_Cookbooks/venv/lib/python3.11/site-packages (from torch>=1.11.0->sentence-transformers) (1.12)\n",
      "Requirement already satisfied: networkx in /Users/jackiexc/GitHub/LLM_Cookbooks/venv/lib/python3.11/site-packages (from torch>=1.11.0->sentence-transformers) (3.3)\n",
      "Requirement already satisfied: jinja2 in /Users/jackiexc/GitHub/LLM_Cookbooks/venv/lib/python3.11/site-packages (from torch>=1.11.0->sentence-transformers) (3.1.3)\n",
      "Collecting huggingface-hub>=0.15.1 (from sentence-transformers)\n",
      "  Downloading huggingface_hub-0.23.0-py3-none-any.whl.metadata (12 kB)\n",
      "Collecting tokenizers>=0.13.2 (from chromadb<0.6.0,>=0.5.0->embedchain)\n",
      "  Downloading tokenizers-0.19.1-cp311-cp311-macosx_10_12_x86_64.whl.metadata (6.7 kB)\n",
      "Collecting safetensors>=0.4.1 (from transformers<5.0.0,>=4.34.0->sentence-transformers)\n",
      "  Downloading safetensors-0.4.3-cp311-cp311-macosx_10_12_x86_64.whl.metadata (3.8 kB)\n",
      "Requirement already satisfied: joblib>=1.2.0 in /Users/jackiexc/GitHub/LLM_Cookbooks/venv/lib/python3.11/site-packages (from scikit-learn->sentence-transformers) (1.4.0)\n",
      "Collecting threadpoolctl>=2.0.0 (from scikit-learn->sentence-transformers)\n",
      "  Downloading threadpoolctl-3.5.0-py3-none-any.whl.metadata (13 kB)\n",
      "Requirement already satisfied: aiosignal>=1.1.2 in /Users/jackiexc/GitHub/LLM_Cookbooks/venv/lib/python3.11/site-packages (from aiohttp<4.0.0,>=3.8.3->langchain<0.2.0,>=0.1.4->embedchain) (1.3.1)\n",
      "Requirement already satisfied: attrs>=17.3.0 in /Users/jackiexc/GitHub/LLM_Cookbooks/venv/lib/python3.11/site-packages (from aiohttp<4.0.0,>=3.8.3->langchain<0.2.0,>=0.1.4->embedchain) (23.2.0)\n",
      "Requirement already satisfied: frozenlist>=1.1.1 in /Users/jackiexc/GitHub/LLM_Cookbooks/venv/lib/python3.11/site-packages (from aiohttp<4.0.0,>=3.8.3->langchain<0.2.0,>=0.1.4->embedchain) (1.4.1)\n",
      "Requirement already satisfied: multidict<7.0,>=4.5 in /Users/jackiexc/GitHub/LLM_Cookbooks/venv/lib/python3.11/site-packages (from aiohttp<4.0.0,>=3.8.3->langchain<0.2.0,>=0.1.4->embedchain) (6.0.5)\n",
      "Requirement already satisfied: yarl<2.0,>=1.0 in /Users/jackiexc/GitHub/LLM_Cookbooks/venv/lib/python3.11/site-packages (from aiohttp<4.0.0,>=3.8.3->langchain<0.2.0,>=0.1.4->embedchain) (1.9.4)\n",
      "Requirement already satisfied: idna>=2.8 in /Users/jackiexc/GitHub/LLM_Cookbooks/venv/lib/python3.11/site-packages (from anyio<5,>=3.5.0->openai>=1.1.1->embedchain) (3.6)\n",
      "Requirement already satisfied: pyproject_hooks in /Users/jackiexc/GitHub/LLM_Cookbooks/venv/lib/python3.11/site-packages (from build>=1.0.3->chromadb<0.6.0,>=0.5.0->embedchain) (1.0.0)\n",
      "Requirement already satisfied: marshmallow<4.0.0,>=3.18.0 in /Users/jackiexc/GitHub/LLM_Cookbooks/venv/lib/python3.11/site-packages (from dataclasses-json<0.7,>=0.5.7->langchain<0.2.0,>=0.1.4->embedchain) (3.21.1)\n",
      "Requirement already satisfied: typing-inspect<1,>=0.4.0 in /Users/jackiexc/GitHub/LLM_Cookbooks/venv/lib/python3.11/site-packages (from dataclasses-json<0.7,>=0.5.7->langchain<0.2.0,>=0.1.4->embedchain) (0.9.0)\n",
      "Requirement already satisfied: starlette<0.38.0,>=0.37.2 in /Users/jackiexc/GitHub/LLM_Cookbooks/venv/lib/python3.11/site-packages (from fastapi>=0.95.2->chromadb<0.6.0,>=0.5.0->embedchain) (0.37.2)\n",
      "Requirement already satisfied: googleapis-common-protos<2.0.dev0,>=1.56.2 in /Users/jackiexc/GitHub/LLM_Cookbooks/venv/lib/python3.11/site-packages (from google-api-core!=2.0.*,!=2.1.*,!=2.2.*,!=2.3.*,!=2.4.*,!=2.5.*,!=2.6.*,!=2.7.*,<3.0.0dev,>=1.34.1->google-api-core[grpc]!=2.0.*,!=2.1.*,!=2.2.*,!=2.3.*,!=2.4.*,!=2.5.*,!=2.6.*,!=2.7.*,<3.0.0dev,>=1.34.1->google-cloud-aiplatform<2.0.0,>=1.26.1->embedchain) (1.63.0)\n",
      "Requirement already satisfied: grpcio-status<2.0.dev0,>=1.33.2 in /Users/jackiexc/GitHub/LLM_Cookbooks/venv/lib/python3.11/site-packages (from google-api-core[grpc]!=2.0.*,!=2.1.*,!=2.2.*,!=2.3.*,!=2.4.*,!=2.5.*,!=2.6.*,!=2.7.*,<3.0.0dev,>=1.34.1->google-cloud-aiplatform<2.0.0,>=1.26.1->embedchain) (1.62.2)\n",
      "Requirement already satisfied: pyasn1-modules>=0.2.1 in /Users/jackiexc/GitHub/LLM_Cookbooks/venv/lib/python3.11/site-packages (from google-auth<3.0.0dev,>=2.14.1->google-cloud-aiplatform<2.0.0,>=1.26.1->embedchain) (0.4.0)\n",
      "Requirement already satisfied: rsa<5,>=3.1.4 in /Users/jackiexc/GitHub/LLM_Cookbooks/venv/lib/python3.11/site-packages (from google-auth<3.0.0dev,>=2.14.1->google-cloud-aiplatform<2.0.0,>=1.26.1->embedchain) (4.9)\n",
      "Requirement already satisfied: google-cloud-core<3.0.0dev,>=1.6.0 in /Users/jackiexc/GitHub/LLM_Cookbooks/venv/lib/python3.11/site-packages (from google-cloud-bigquery!=3.20.0,<4.0.0dev,>=1.15.0->google-cloud-aiplatform<2.0.0,>=1.26.1->embedchain) (2.4.1)\n",
      "Requirement already satisfied: google-resumable-media<3.0dev,>=0.6.0 in /Users/jackiexc/GitHub/LLM_Cookbooks/venv/lib/python3.11/site-packages (from google-cloud-bigquery!=3.20.0,<4.0.0dev,>=1.15.0->google-cloud-aiplatform<2.0.0,>=1.26.1->embedchain) (2.7.0)\n",
      "Requirement already satisfied: grpc-google-iam-v1<1.0.0dev,>=0.12.4 in /Users/jackiexc/GitHub/LLM_Cookbooks/venv/lib/python3.11/site-packages (from google-cloud-resource-manager<3.0.0dev,>=1.3.3->google-cloud-aiplatform<2.0.0,>=1.26.1->embedchain) (0.13.0)\n",
      "Requirement already satisfied: google-crc32c<2.0dev,>=1.0 in /Users/jackiexc/GitHub/LLM_Cookbooks/venv/lib/python3.11/site-packages (from google-cloud-storage<3.0.0dev,>=1.32.0->google-cloud-aiplatform<2.0.0,>=1.26.1->embedchain) (1.5.0)\n",
      "Requirement already satisfied: certifi in /Users/jackiexc/GitHub/LLM_Cookbooks/venv/lib/python3.11/site-packages (from httpx<1,>=0.23.0->openai>=1.1.1->embedchain) (2024.2.2)\n",
      "Requirement already satisfied: httpcore==1.* in /Users/jackiexc/GitHub/LLM_Cookbooks/venv/lib/python3.11/site-packages (from httpx<1,>=0.23.0->openai>=1.1.1->embedchain) (1.0.5)\n",
      "Requirement already satisfied: h11<0.15,>=0.13 in /Users/jackiexc/GitHub/LLM_Cookbooks/venv/lib/python3.11/site-packages (from httpcore==1.*->httpx<1,>=0.23.0->openai>=1.1.1->embedchain) (0.14.0)\n",
      "Requirement already satisfied: jsonpointer>=1.9 in /Users/jackiexc/GitHub/LLM_Cookbooks/venv/lib/python3.11/site-packages (from jsonpatch<2.0,>=1.33->langchain<0.2.0,>=0.1.4->embedchain) (2.4)\n",
      "Requirement already satisfied: websocket-client!=0.40.0,!=0.41.*,!=0.42.*,>=0.32.0 in /Users/jackiexc/GitHub/LLM_Cookbooks/venv/lib/python3.11/site-packages (from kubernetes>=28.1.0->chromadb<0.6.0,>=0.5.0->embedchain) (1.7.0)\n",
      "Requirement already satisfied: requests-oauthlib in /Users/jackiexc/GitHub/LLM_Cookbooks/venv/lib/python3.11/site-packages (from kubernetes>=28.1.0->chromadb<0.6.0,>=0.5.0->embedchain) (2.0.0)\n",
      "Requirement already satisfied: oauthlib>=3.2.2 in /Users/jackiexc/GitHub/LLM_Cookbooks/venv/lib/python3.11/site-packages (from kubernetes>=28.1.0->chromadb<0.6.0,>=0.5.0->embedchain) (3.2.2)\n",
      "Requirement already satisfied: urllib3>=1.24.2 in /Users/jackiexc/GitHub/LLM_Cookbooks/venv/lib/python3.11/site-packages (from kubernetes>=28.1.0->chromadb<0.6.0,>=0.5.0->embedchain) (2.2.1)\n",
      "Requirement already satisfied: mdurl~=0.1 in /Users/jackiexc/GitHub/LLM_Cookbooks/venv/lib/python3.11/site-packages (from markdown-it-py>=2.2.0->rich<14.0.0,>=13.7.0->embedchain) (0.1.2)\n",
      "Requirement already satisfied: coloredlogs in /Users/jackiexc/GitHub/LLM_Cookbooks/venv/lib/python3.11/site-packages (from onnxruntime>=1.14.1->chromadb<0.6.0,>=0.5.0->embedchain) (15.0.1)\n",
      "Requirement already satisfied: flatbuffers in /Users/jackiexc/GitHub/LLM_Cookbooks/venv/lib/python3.11/site-packages (from onnxruntime>=1.14.1->chromadb<0.6.0,>=0.5.0->embedchain) (24.3.25)\n",
      "Requirement already satisfied: deprecated>=1.2.6 in /Users/jackiexc/GitHub/LLM_Cookbooks/venv/lib/python3.11/site-packages (from opentelemetry-api>=1.2.0->chromadb<0.6.0,>=0.5.0->embedchain) (1.2.14)\n",
      "Requirement already satisfied: importlib-metadata<=7.0,>=6.0 in /Users/jackiexc/GitHub/LLM_Cookbooks/venv/lib/python3.11/site-packages (from opentelemetry-api>=1.2.0->chromadb<0.6.0,>=0.5.0->embedchain) (7.0.0)\n",
      "Requirement already satisfied: opentelemetry-exporter-otlp-proto-common==1.24.0 in /Users/jackiexc/GitHub/LLM_Cookbooks/venv/lib/python3.11/site-packages (from opentelemetry-exporter-otlp-proto-grpc>=1.2.0->chromadb<0.6.0,>=0.5.0->embedchain) (1.24.0)\n",
      "Requirement already satisfied: opentelemetry-proto==1.24.0 in /Users/jackiexc/GitHub/LLM_Cookbooks/venv/lib/python3.11/site-packages (from opentelemetry-exporter-otlp-proto-grpc>=1.2.0->chromadb<0.6.0,>=0.5.0->embedchain) (1.24.0)\n",
      "Requirement already satisfied: opentelemetry-instrumentation-asgi==0.45b0 in /Users/jackiexc/GitHub/LLM_Cookbooks/venv/lib/python3.11/site-packages (from opentelemetry-instrumentation-fastapi>=0.41b0->chromadb<0.6.0,>=0.5.0->embedchain) (0.45b0)\n",
      "Requirement already satisfied: opentelemetry-instrumentation==0.45b0 in /Users/jackiexc/GitHub/LLM_Cookbooks/venv/lib/python3.11/site-packages (from opentelemetry-instrumentation-fastapi>=0.41b0->chromadb<0.6.0,>=0.5.0->embedchain) (0.45b0)\n",
      "Requirement already satisfied: opentelemetry-semantic-conventions==0.45b0 in /Users/jackiexc/GitHub/LLM_Cookbooks/venv/lib/python3.11/site-packages (from opentelemetry-instrumentation-fastapi>=0.41b0->chromadb<0.6.0,>=0.5.0->embedchain) (0.45b0)\n",
      "Requirement already satisfied: opentelemetry-util-http==0.45b0 in /Users/jackiexc/GitHub/LLM_Cookbooks/venv/lib/python3.11/site-packages (from opentelemetry-instrumentation-fastapi>=0.41b0->chromadb<0.6.0,>=0.5.0->embedchain) (0.45b0)\n",
      "Requirement already satisfied: setuptools>=16.0 in /Users/jackiexc/GitHub/LLM_Cookbooks/venv/lib/python3.11/site-packages (from opentelemetry-instrumentation==0.45b0->opentelemetry-instrumentation-fastapi>=0.41b0->chromadb<0.6.0,>=0.5.0->embedchain) (65.5.0)\n",
      "Requirement already satisfied: wrapt<2.0.0,>=1.0.0 in /Users/jackiexc/GitHub/LLM_Cookbooks/venv/lib/python3.11/site-packages (from opentelemetry-instrumentation==0.45b0->opentelemetry-instrumentation-fastapi>=0.41b0->chromadb<0.6.0,>=0.5.0->embedchain) (1.16.0)\n",
      "Requirement already satisfied: asgiref~=3.0 in /Users/jackiexc/GitHub/LLM_Cookbooks/venv/lib/python3.11/site-packages (from opentelemetry-instrumentation-asgi==0.45b0->opentelemetry-instrumentation-fastapi>=0.41b0->chromadb<0.6.0,>=0.5.0->embedchain) (3.8.1)\n",
      "Requirement already satisfied: annotated-types>=0.4.0 in /Users/jackiexc/GitHub/LLM_Cookbooks/venv/lib/python3.11/site-packages (from pydantic>=1.9->chromadb<0.6.0,>=0.5.0->embedchain) (0.6.0)\n",
      "Requirement already satisfied: pydantic-core==2.16.3 in /Users/jackiexc/GitHub/LLM_Cookbooks/venv/lib/python3.11/site-packages (from pydantic>=1.9->chromadb<0.6.0,>=0.5.0->embedchain) (2.16.3)\n",
      "Requirement already satisfied: charset-normalizer<4,>=2 in /Users/jackiexc/GitHub/LLM_Cookbooks/venv/lib/python3.11/site-packages (from requests>=2.28->chromadb<0.6.0,>=0.5.0->embedchain) (3.3.2)\n",
      "Requirement already satisfied: click<9.0.0,>=7.1.1 in /Users/jackiexc/GitHub/LLM_Cookbooks/venv/lib/python3.11/site-packages (from typer>=0.9.0->chromadb<0.6.0,>=0.5.0->embedchain) (8.1.7)\n",
      "Requirement already satisfied: httptools>=0.5.0 in /Users/jackiexc/GitHub/LLM_Cookbooks/venv/lib/python3.11/site-packages (from uvicorn[standard]>=0.18.3->chromadb<0.6.0,>=0.5.0->embedchain) (0.6.1)\n",
      "Requirement already satisfied: uvloop!=0.15.0,!=0.15.1,>=0.14.0 in /Users/jackiexc/GitHub/LLM_Cookbooks/venv/lib/python3.11/site-packages (from uvicorn[standard]>=0.18.3->chromadb<0.6.0,>=0.5.0->embedchain) (0.19.0)\n",
      "Requirement already satisfied: watchfiles>=0.13 in /Users/jackiexc/GitHub/LLM_Cookbooks/venv/lib/python3.11/site-packages (from uvicorn[standard]>=0.18.3->chromadb<0.6.0,>=0.5.0->embedchain) (0.21.0)\n",
      "Requirement already satisfied: websockets>=10.4 in /Users/jackiexc/GitHub/LLM_Cookbooks/venv/lib/python3.11/site-packages (from uvicorn[standard]>=0.18.3->chromadb<0.6.0,>=0.5.0->embedchain) (12.0)\n",
      "Requirement already satisfied: MarkupSafe>=2.0 in /Users/jackiexc/GitHub/LLM_Cookbooks/venv/lib/python3.11/site-packages (from jinja2->torch>=1.11.0->sentence-transformers) (2.1.5)\n",
      "Requirement already satisfied: mpmath>=0.19 in /Users/jackiexc/GitHub/LLM_Cookbooks/venv/lib/python3.11/site-packages (from sympy->torch>=1.11.0->sentence-transformers) (1.3.0)\n",
      "Requirement already satisfied: zipp>=0.5 in /Users/jackiexc/GitHub/LLM_Cookbooks/venv/lib/python3.11/site-packages (from importlib-metadata<=7.0,>=6.0->opentelemetry-api>=1.2.0->chromadb<0.6.0,>=0.5.0->embedchain) (3.18.1)\n",
      "Requirement already satisfied: pyasn1<0.7.0,>=0.4.6 in /Users/jackiexc/GitHub/LLM_Cookbooks/venv/lib/python3.11/site-packages (from pyasn1-modules>=0.2.1->google-auth<3.0.0dev,>=2.14.1->google-cloud-aiplatform<2.0.0,>=1.26.1->embedchain) (0.6.0)\n",
      "Requirement already satisfied: mypy-extensions>=0.3.0 in /Users/jackiexc/GitHub/LLM_Cookbooks/venv/lib/python3.11/site-packages (from typing-inspect<1,>=0.4.0->dataclasses-json<0.7,>=0.5.7->langchain<0.2.0,>=0.1.4->embedchain) (1.0.0)\n",
      "Requirement already satisfied: humanfriendly>=9.1 in /Users/jackiexc/GitHub/LLM_Cookbooks/venv/lib/python3.11/site-packages (from coloredlogs->onnxruntime>=1.14.1->chromadb<0.6.0,>=0.5.0->embedchain) (10.0)\n",
      "Downloading sentence_transformers-2.7.0-py3-none-any.whl (171 kB)\n",
      "\u001b[2K   \u001b[90m━━━━━━━━━━━━━━━━━━━━━━━━━━━━━━━━━━━━━━━━\u001b[0m \u001b[32m171.5/171.5 kB\u001b[0m \u001b[31m2.8 MB/s\u001b[0m eta \u001b[36m0:00:00\u001b[0ma \u001b[36m0:00:01\u001b[0m\n",
      "\u001b[?25hDownloading torch-2.2.2-cp311-none-macosx_10_9_x86_64.whl (150.8 MB)\n",
      "\u001b[2K   \u001b[90m━━━━━━━━━━━━━━━━━━━━━━━━━━━━━━━━━━━━━━━━\u001b[0m \u001b[32m150.8/150.8 MB\u001b[0m \u001b[31m4.5 MB/s\u001b[0m eta \u001b[36m0:00:00\u001b[0m00:01\u001b[0m00:01\u001b[0m\n",
      "\u001b[?25hDownloading transformers-4.41.0-py3-none-any.whl (9.1 MB)\n",
      "\u001b[2K   \u001b[90m━━━━━━━━━━━━━━━━━━━━━━━━━━━━━━━━━━━━━━━━\u001b[0m \u001b[32m9.1/9.1 MB\u001b[0m \u001b[31m6.2 MB/s\u001b[0m eta \u001b[36m0:00:00\u001b[0m00:01\u001b[0m00:01\u001b[0m\n",
      "\u001b[?25hDownloading huggingface_hub-0.23.0-py3-none-any.whl (401 kB)\n",
      "\u001b[2K   \u001b[90m━━━━━━━━━━━━━━━━━━━━━━━━━━━━━━━━━━━━━━━━\u001b[0m \u001b[32m401.2/401.2 kB\u001b[0m \u001b[31m4.3 MB/s\u001b[0m eta \u001b[36m0:00:00\u001b[0m00:01\u001b[0m00:01\u001b[0m\n",
      "\u001b[?25hDownloading scikit_learn-1.4.2-cp311-cp311-macosx_10_9_x86_64.whl (11.6 MB)\n",
      "\u001b[2K   \u001b[90m━━━━━━━━━━━━━━━━━━━━━━━━━━━━━━━━━━━━━━━━\u001b[0m \u001b[32m11.6/11.6 MB\u001b[0m \u001b[31m6.0 MB/s\u001b[0m eta \u001b[36m0:00:00\u001b[0m00:01\u001b[0m00:01\u001b[0m\n",
      "\u001b[?25hDownloading scipy-1.13.0-cp311-cp311-macosx_10_9_x86_64.whl (39.3 MB)\n",
      "\u001b[2K   \u001b[90m━━━━━━━━━━━━━━━━━━━━━━━━━━━━━━━━━━━━━━━━\u001b[0m \u001b[32m39.3/39.3 MB\u001b[0m \u001b[31m4.5 MB/s\u001b[0m eta \u001b[36m0:00:00\u001b[0m00:01\u001b[0m00:01\u001b[0m\n",
      "\u001b[?25hDownloading safetensors-0.4.3-cp311-cp311-macosx_10_12_x86_64.whl (415 kB)\n",
      "\u001b[2K   \u001b[90m━━━━━━━━━━━━━━━━━━━━━━━━━━━━━━━━━━━━━━━━\u001b[0m \u001b[32m415.3/415.3 kB\u001b[0m \u001b[31m3.5 MB/s\u001b[0m eta \u001b[36m0:00:00\u001b[0ma \u001b[36m0:00:01\u001b[0m\n",
      "\u001b[?25hDownloading threadpoolctl-3.5.0-py3-none-any.whl (18 kB)\n",
      "Downloading tokenizers-0.19.1-cp311-cp311-macosx_10_12_x86_64.whl (2.5 MB)\n",
      "\u001b[2K   \u001b[90m━━━━━━━━━━━━━━━━━━━━━━━━━━━━━━━━━━━━━━━━\u001b[0m \u001b[32m2.5/2.5 MB\u001b[0m \u001b[31m3.9 MB/s\u001b[0m eta \u001b[36m0:00:00\u001b[0m00:01\u001b[0m00:01\u001b[0m\n",
      "\u001b[?25hInstalling collected packages: threadpoolctl, scipy, safetensors, torch, scikit-learn, huggingface-hub, tokenizers, transformers, sentence-transformers\n",
      "  Attempting uninstall: huggingface-hub\n",
      "    Found existing installation: huggingface-hub 0.22.2\n",
      "    Uninstalling huggingface-hub-0.22.2:\n",
      "      Successfully uninstalled huggingface-hub-0.22.2\n",
      "  Attempting uninstall: tokenizers\n",
      "    Found existing installation: tokenizers 0.15.2\n",
      "    Uninstalling tokenizers-0.15.2:\n",
      "      Successfully uninstalled tokenizers-0.15.2\n",
      "\u001b[31mERROR: pip's dependency resolver does not currently take into account all the packages that are installed. This behaviour is the source of the following dependency conflicts.\n",
      "crewai-tools 0.2.6 requires chromadb<0.5.0,>=0.4.22, but you have chromadb 0.5.0 which is incompatible.\u001b[0m\u001b[31m\n",
      "\u001b[0mSuccessfully installed huggingface-hub-0.23.0 safetensors-0.4.3 scikit-learn-1.4.2 scipy-1.13.0 sentence-transformers-2.7.0 threadpoolctl-3.5.0 tokenizers-0.19.1 torch-2.2.2 transformers-4.41.0\n"
     ]
    }
   ],
   "source": [
    "!pip install embedchain sentence-transformers"
   ]
  },
  {
   "cell_type": "code",
   "execution_count": 6,
   "id": "7f9151c9-5cf8-430f-a0bc-13757f7ad591",
   "metadata": {},
   "outputs": [
    {
     "data": {
      "application/vnd.jupyter.widget-view+json": {
       "model_id": "e2b206978763435aa5bd75b7f3e8534a",
       "version_major": 2,
       "version_minor": 0
      },
      "text/plain": [
       "modules.json:   0%|          | 0.00/349 [00:00<?, ?B/s]"
      ]
     },
     "metadata": {},
     "output_type": "display_data"
    },
    {
     "data": {
      "application/vnd.jupyter.widget-view+json": {
       "model_id": "ad5d5d26bed444c5a921a66b3abde0e5",
       "version_major": 2,
       "version_minor": 0
      },
      "text/plain": [
       "config_sentence_transformers.json:   0%|          | 0.00/116 [00:00<?, ?B/s]"
      ]
     },
     "metadata": {},
     "output_type": "display_data"
    },
    {
     "data": {
      "application/vnd.jupyter.widget-view+json": {
       "model_id": "2a34921b4ace420cac28221dc7570dc3",
       "version_major": 2,
       "version_minor": 0
      },
      "text/plain": [
       "README.md:   0%|          | 0.00/10.6k [00:00<?, ?B/s]"
      ]
     },
     "metadata": {},
     "output_type": "display_data"
    },
    {
     "data": {
      "application/vnd.jupyter.widget-view+json": {
       "model_id": "8fee0cdad4f84fd6b0277b4e936d4cd3",
       "version_major": 2,
       "version_minor": 0
      },
      "text/plain": [
       "sentence_bert_config.json:   0%|          | 0.00/53.0 [00:00<?, ?B/s]"
      ]
     },
     "metadata": {},
     "output_type": "display_data"
    },
    {
     "name": "stderr",
     "output_type": "stream",
     "text": [
      "/Users/jackiexc/GitHub/LLM_Cookbooks/venv/lib/python3.11/site-packages/huggingface_hub/file_download.py:1132: FutureWarning: `resume_download` is deprecated and will be removed in version 1.0.0. Downloads always resume when possible. If you want to force a new download, use `force_download=True`.\n",
      "  warnings.warn(\n"
     ]
    },
    {
     "data": {
      "application/vnd.jupyter.widget-view+json": {
       "model_id": "7d53321d93c244b2b04b645a8952f4ad",
       "version_major": 2,
       "version_minor": 0
      },
      "text/plain": [
       "config.json:   0%|          | 0.00/571 [00:00<?, ?B/s]"
      ]
     },
     "metadata": {},
     "output_type": "display_data"
    },
    {
     "data": {
      "application/vnd.jupyter.widget-view+json": {
       "model_id": "b22f35eee8f4409ba1e0dc269b5fb95a",
       "version_major": 2,
       "version_minor": 0
      },
      "text/plain": [
       "model.safetensors:   0%|          | 0.00/438M [00:00<?, ?B/s]"
      ]
     },
     "metadata": {},
     "output_type": "display_data"
    },
    {
     "data": {
      "application/vnd.jupyter.widget-view+json": {
       "model_id": "a822f30fb1f940beb8e10fb97763af0f",
       "version_major": 2,
       "version_minor": 0
      },
      "text/plain": [
       "tokenizer_config.json:   0%|          | 0.00/363 [00:00<?, ?B/s]"
      ]
     },
     "metadata": {},
     "output_type": "display_data"
    },
    {
     "data": {
      "application/vnd.jupyter.widget-view+json": {
       "model_id": "6dcf49bb1c2a48d891b003383f405818",
       "version_major": 2,
       "version_minor": 0
      },
      "text/plain": [
       "vocab.txt:   0%|          | 0.00/232k [00:00<?, ?B/s]"
      ]
     },
     "metadata": {},
     "output_type": "display_data"
    },
    {
     "data": {
      "application/vnd.jupyter.widget-view+json": {
       "model_id": "e2e0c8bb4aab40cb83d0ee4167f66a1d",
       "version_major": 2,
       "version_minor": 0
      },
      "text/plain": [
       "tokenizer.json:   0%|          | 0.00/466k [00:00<?, ?B/s]"
      ]
     },
     "metadata": {},
     "output_type": "display_data"
    },
    {
     "data": {
      "application/vnd.jupyter.widget-view+json": {
       "model_id": "d34ea1b73b8149e1937bb47642400a6b",
       "version_major": 2,
       "version_minor": 0
      },
      "text/plain": [
       "special_tokens_map.json:   0%|          | 0.00/239 [00:00<?, ?B/s]"
      ]
     },
     "metadata": {},
     "output_type": "display_data"
    },
    {
     "data": {
      "application/vnd.jupyter.widget-view+json": {
       "model_id": "6e8f46b99c044c6596f945828527e13e",
       "version_major": 2,
       "version_minor": 0
      },
      "text/plain": [
       "1_Pooling/config.json:   0%|          | 0.00/190 [00:00<?, ?B/s]"
      ]
     },
     "metadata": {},
     "output_type": "display_data"
    }
   ],
   "source": [
    "from embedchain import Pipeline as App\n",
    "\n",
    "app = App.from_config(config_path=\"./sample/embedchain_sample_config.yaml\")"
   ]
  },
  {
   "cell_type": "code",
   "execution_count": 7,
   "id": "eac21bbf-5fd8-468a-9df9-9c6861d22dc8",
   "metadata": {},
   "outputs": [
    {
     "name": "stderr",
     "output_type": "stream",
     "text": [
      "Inserting batches in chromadb: 100%|████████████████████████████████████████████████████████████████████████| 1/1 [00:14<00:00, 14.67s/it]\n"
     ]
    },
    {
     "data": {
      "text/plain": [
       "'9085711cb8d69e9cbde6257ca02a6c71'"
      ]
     },
     "execution_count": 7,
     "metadata": {},
     "output_type": "execute_result"
    }
   ],
   "source": [
    "app.add(\"https://aws.amazon.com/q/developer/faqs/\")"
   ]
  },
  {
   "cell_type": "code",
   "execution_count": 8,
   "id": "81a6ea8c-2e7a-464f-b98a-f97e806c4ae1",
   "metadata": {},
   "outputs": [
    {
     "name": "stderr",
     "output_type": "stream",
     "text": [
      "huggingface/tokenizers: The current process just got forked, after parallelism has already been used. Disabling parallelism to avoid deadlocks...\n",
      "To disable this warning, you can either:\n",
      "\t- Avoid using `tokenizers` before the fork if possible\n",
      "\t- Explicitly set the environment variable TOKENIZERS_PARALLELISM=(true | false)\n"
     ]
    },
    {
     "name": "stdout",
     "output_type": "stream",
     "text": [
      "Thank you for reaching out! We're happy to help you with your query. However, we would like to point out that the question itself is a bit ambiguous and could be interpreted in different ways. Could you please provide more context or clarify what you mean by \"content\" and \"models\"? This will help us give you a more accurate and relevant answer.\n",
      "\n",
      "Additionally, we want to remind you that Amazon Q Developer is a tool that provides generative AI-powered inline code suggestions in the IDE or command line, security vulnerability scanning, and security vulnerability remediation. It does not use user content for service improvement. If you have any specific questions or concerns regarding Amazon Q Developer, feel free to ask!Thank you for reaching out! We're happy to help you with your query. However, we would like to point out that the question itself is a bit ambiguous and could be interpreted in different ways. Could you please provide more context or clarify what you mean by \"content\" and \"models\"? This will help us give you a more accurate and relevant answer.\n",
      "\n",
      "Additionally, we want to remind you that Amazon Q Developer is a tool that provides generative AI-powered inline code suggestions in the IDE or command line, security vulnerability scanning, and security vulnerability remediation. It does not use user content for service improvement. If you have any specific questions or concerns regarding Amazon Q Developer, feel free to ask!\n"
     ]
    }
   ],
   "source": [
    "answer = app.query(\"does amazon Q user my content to train any models?\")\n",
    "print(answer)"
   ]
  },
  {
   "cell_type": "code",
   "execution_count": null,
   "id": "8302a8eb-c264-4013-8314-fc9d151237fb",
   "metadata": {},
   "outputs": [],
   "source": []
  }
 ],
 "metadata": {
  "kernelspec": {
   "display_name": "Python 3 (ipykernel)",
   "language": "python",
   "name": "python3"
  },
  "language_info": {
   "codemirror_mode": {
    "name": "ipython",
    "version": 3
   },
   "file_extension": ".py",
   "mimetype": "text/x-python",
   "name": "python",
   "nbconvert_exporter": "python",
   "pygments_lexer": "ipython3",
   "version": "3.11.4"
  }
 },
 "nbformat": 4,
 "nbformat_minor": 5
}
