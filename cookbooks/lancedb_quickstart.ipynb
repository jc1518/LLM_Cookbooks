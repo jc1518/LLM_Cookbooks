{
 "cells": [
  {
   "cell_type": "code",
   "execution_count": 2,
   "id": "ff1e947b-d4cf-4c97-870e-fec0371a261b",
   "metadata": {},
   "outputs": [],
   "source": [
    "!pip install -q lancedb"
   ]
  },
  {
   "cell_type": "code",
   "execution_count": 3,
   "id": "774e0c4e-d68d-442e-a4e9-b34b61a14bf4",
   "metadata": {},
   "outputs": [],
   "source": [
    "import lancedb\n",
    "\n",
    "uri = \"data/sample-lancedb\"\n",
    "db = lancedb.connect(uri)\n",
    "table = db.create_table(\"my_table\",\n",
    "                         data=[{\"vector\": [3.1, 4.1], \"item\": \"foo\", \"price\": 10.0},\n",
    "                               {\"vector\": [5.9, 26.5], \"item\": \"bar\", \"price\": 20.0}])\n",
    "result = table.search([100, 100]).limit(2).to_pandas()"
   ]
  },
  {
   "cell_type": "code",
   "execution_count": 4,
   "id": "8382fe95-1733-4202-9d34-7bca3fc84b4e",
   "metadata": {},
   "outputs": [
    {
     "name": "stdout",
     "output_type": "stream",
     "text": [
      "        vector item  price     _distance\n",
      "0  [5.9, 26.5]  bar   20.0  14257.059570\n",
      "1   [3.1, 4.1]  foo   10.0  18586.421875\n"
     ]
    }
   ],
   "source": [
    "print(result)"
   ]
  },
  {
   "cell_type": "code",
   "execution_count": null,
   "id": "404aecc7-35c9-45f8-9214-d46fb9393ba7",
   "metadata": {},
   "outputs": [],
   "source": []
  }
 ],
 "metadata": {
  "kernelspec": {
   "display_name": "Python 3 (ipykernel)",
   "language": "python",
   "name": "python3"
  },
  "language_info": {
   "codemirror_mode": {
    "name": "ipython",
    "version": 3
   },
   "file_extension": ".py",
   "mimetype": "text/x-python",
   "name": "python",
   "nbconvert_exporter": "python",
   "pygments_lexer": "ipython3",
   "version": "3.11.4"
  }
 },
 "nbformat": 4,
 "nbformat_minor": 5
}
