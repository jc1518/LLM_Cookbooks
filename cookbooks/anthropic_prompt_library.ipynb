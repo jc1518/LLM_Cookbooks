{
 "cells": [
  {
   "cell_type": "code",
   "execution_count": 52,
   "id": "5eb8db5e-9bb9-4a95-95c4-7b101e23b111",
   "metadata": {},
   "outputs": [
    {
     "name": "stdout",
     "output_type": "stream",
     "text": [
      "[]\n"
     ]
    }
   ],
   "source": [
    "import requests\n",
    "from bs4 import BeautifulSoup\n",
    "\n",
    "def crawl_prompt_cards(url):\n",
    "    response = requests.get(url)\n",
    "    soup = BeautifulSoup(response.content, 'html.parser')\n",
    "    #print(soup)\n",
    "    prompt_cards = soup.select(\"#prompts-card \")\n",
    "    print(prompt_cards)\n",
    "    prompt_links = [link.get('href') for link in prompt_cards]\n",
    "\n",
    "    return prompt_links\n",
    "\n",
    "if __name__ == '__main__':\n",
    "    url = 'https://docs.anthropic.com/en/prompt-library'\n",
    "    prompt_links = crawl_prompt_cards(url)\n",
    "\n",
    "    for link in prompt_links:\n",
    "        print(link)"
   ]
  },
  {
   "cell_type": "code",
   "execution_count": null,
   "id": "1b32ac96-e748-43a2-80fa-4aeefe2f5647",
   "metadata": {},
   "outputs": [],
   "source": []
  }
 ],
 "metadata": {
  "kernelspec": {
   "display_name": "Python 3 (ipykernel)",
   "language": "python",
   "name": "python3"
  },
  "language_info": {
   "codemirror_mode": {
    "name": "ipython",
    "version": 3
   },
   "file_extension": ".py",
   "mimetype": "text/x-python",
   "name": "python",
   "nbconvert_exporter": "python",
   "pygments_lexer": "ipython3",
   "version": "3.11.4"
  }
 },
 "nbformat": 4,
 "nbformat_minor": 5
}
