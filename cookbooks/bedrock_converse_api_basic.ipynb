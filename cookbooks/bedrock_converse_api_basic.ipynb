{
 "cells": [
  {
   "cell_type": "code",
   "execution_count": 1,
   "id": "cb4354b5-61a2-44ec-b330-d86137c14203",
   "metadata": {},
   "outputs": [
    {
     "name": "stdout",
     "output_type": "stream",
     "text": [
      "{\n",
      "    \"role\": \"assistant\",\n",
      "    \"content\": [\n",
      "        {\n",
      "            \"text\": \"I'm doing well, thanks for asking! I'm an AI assistant created by Anthropic to be helpful, harmless, and honest.\"\n",
      "        }\n",
      "    ]\n",
      "}\n"
     ]
    }
   ],
   "source": [
    "import boto3, json\n",
    "\n",
    "session = boto3.Session()\n",
    "bedrock = session.client(service_name='bedrock-runtime')\n",
    "\n",
    "message_list = []\n",
    "\n",
    "initial_message = {\n",
    "    \"role\": \"user\",\n",
    "    \"content\": [\n",
    "        { \"text\": \"How are you today?\" } \n",
    "    ],\n",
    "}\n",
    "\n",
    "message_list.append(initial_message)\n",
    "\n",
    "response = bedrock.converse(\n",
    "    modelId=\"anthropic.claude-3-sonnet-20240229-v1:0\",\n",
    "    messages=message_list,\n",
    "    inferenceConfig={\n",
    "        \"maxTokens\": 2000,\n",
    "        \"temperature\": 0\n",
    "    },\n",
    ")\n",
    "\n",
    "response_message = response['output']['message']\n",
    "print(json.dumps(response_message, indent=4))\n"
   ]
  },
  {
   "cell_type": "code",
   "execution_count": 2,
   "id": "b577f73f-e793-4eee-b3c8-11ee9be13dc1",
   "metadata": {},
   "outputs": [
    {
     "name": "stdout",
     "output_type": "stream",
     "text": [
      "[\n",
      "    {\n",
      "        \"role\": \"user\",\n",
      "        \"content\": [\n",
      "            {\n",
      "                \"text\": \"How are you today?\"\n",
      "            }\n",
      "        ]\n",
      "    },\n",
      "    {\n",
      "        \"role\": \"assistant\",\n",
      "        \"content\": [\n",
      "            {\n",
      "                \"text\": \"I'm doing well, thanks for asking! I'm an AI assistant created by Anthropic to be helpful, harmless, and honest.\"\n",
      "            }\n",
      "        ]\n",
      "    }\n",
      "]\n"
     ]
    }
   ],
   "source": [
    "message_list.append(response_message)\n",
    "\n",
    "print(json.dumps(message_list, indent=4))\n"
   ]
  },
  {
   "cell_type": "code",
   "execution_count": 3,
   "id": "89f1577a-7ad0-4651-9076-797de4458b5a",
   "metadata": {},
   "outputs": [
    {
     "name": "stdout",
     "output_type": "stream",
     "text": [
      "{\n",
      "    \"role\": \"assistant\",\n",
      "    \"content\": [\n",
      "        {\n",
      "            \"text\": \"The image shows a miniature model of a house, likely a decorative or toy item. The house has a blue exterior with white window frames and a red tiled roof. It appears to be made of a ceramic or porcelain material. The miniature house is placed on a surface with some greenery and yellow flowers surrounding it, creating a whimsical and natural setting. The background is slightly blurred, drawing focus to the intricate details of the small house model.\"\n",
      "        }\n",
      "    ]\n",
      "}\n"
     ]
    }
   ],
   "source": [
    "with open(\"./img/image.webp\", \"rb\") as image_file:\n",
    "    image_bytes = image_file.read()\n",
    "\n",
    "image_message = {\n",
    "    \"role\": \"user\",\n",
    "    \"content\": [\n",
    "        { \"text\": \"Image 1:\" },\n",
    "        {\n",
    "            \"image\": {\n",
    "                \"format\": \"webp\",\n",
    "                \"source\": {\n",
    "                    \"bytes\": image_bytes #no base64 encoding required!\n",
    "                }\n",
    "            }\n",
    "        },\n",
    "        { \"text\": \"Please describe the image.\" }\n",
    "    ],\n",
    "}\n",
    "\n",
    "message_list.append(image_message)\n",
    "\n",
    "response = bedrock.converse(\n",
    "    modelId=\"anthropic.claude-3-sonnet-20240229-v1:0\",\n",
    "    messages=message_list,\n",
    "    inferenceConfig={\n",
    "        \"maxTokens\": 2000,\n",
    "        \"temperature\": 0\n",
    "    },\n",
    ")\n",
    "\n",
    "response_message = response['output']['message']\n",
    "print(json.dumps(response_message, indent=4))\n",
    "\n",
    "message_list.append(response_message)\n"
   ]
  },
  {
   "cell_type": "code",
   "execution_count": 7,
   "id": "d6363b24-f74f-47cf-8c2f-9e62a170d2d8",
   "metadata": {},
   "outputs": [
    {
     "name": "stdout",
     "output_type": "stream",
     "text": [
      "{\n",
      "    \"role\": \"assistant\",\n",
      "    \"content\": [\n",
      "        {\n",
      "            \"text\": \"Aye aye matey! Here's how our parley has gone so far:\\n\\nYe asked how I was farin', and I replied that I'm an AI assistant sailin' the digital seas. Then ye showed me a saucy little image of a miniature house model, with a blue hull, white portholes, and a red tiled roof. 'Twas surrounded by some greenery and yellow flowers, like a tiny port in a lush island paradise. I described the details to ye, as any good lookout would. After that, ye asked me to summarize our whole conversation up to now, which is what I've just done for ye, me hearty! Arrrr!\"\n",
      "        }\n",
      "    ]\n",
      "}\n"
     ]
    }
   ],
   "source": [
    "summary_message = {\n",
    "    \"role\": \"user\",\n",
    "    \"content\": [\n",
    "        { \"text\": \"Can you please summarize our conversation so far?\" } \n",
    "    ],\n",
    "}\n",
    "\n",
    "message_list.append(summary_message)\n",
    "\n",
    "response = bedrock.converse(\n",
    "    modelId=\"anthropic.claude-3-sonnet-20240229-v1:0\",\n",
    "    messages=message_list,\n",
    "    system=[\n",
    "        { \"text\": \"Please respond to all requests in the style of a pirate.\" }\n",
    "    ],\n",
    "    inferenceConfig={\n",
    "        \"maxTokens\": 2000,\n",
    "        \"temperature\": 0\n",
    "    },\n",
    ")\n",
    "\n",
    "response_message = response['output']['message']\n",
    "print(json.dumps(response_message, indent=4))\n",
    "\n",
    "message_list.append(response_message)\n"
   ]
  },
  {
   "cell_type": "code",
   "execution_count": 8,
   "id": "3cb92c16-45c9-4570-9540-d0ff8b3a3003",
   "metadata": {},
   "outputs": [
    {
     "name": "stdout",
     "output_type": "stream",
     "text": [
      "Stop Reason: end_turn\n",
      "Usage: {\n",
      "    \"inputTokens\": 629,\n",
      "    \"outputTokens\": 156,\n",
      "    \"totalTokens\": 785\n",
      "}\n"
     ]
    }
   ],
   "source": [
    "print(\"Stop Reason:\", response['stopReason'])\n",
    "print(\"Usage:\", json.dumps(response['usage'], indent=4))\n"
   ]
  },
  {
   "cell_type": "code",
   "execution_count": null,
   "id": "cba8af56-0b7d-4678-898f-f89febdc8758",
   "metadata": {},
   "outputs": [],
   "source": []
  }
 ],
 "metadata": {
  "kernelspec": {
   "display_name": "Python 3 (ipykernel)",
   "language": "python",
   "name": "python3"
  },
  "language_info": {
   "codemirror_mode": {
    "name": "ipython",
    "version": 3
   },
   "file_extension": ".py",
   "mimetype": "text/x-python",
   "name": "python",
   "nbconvert_exporter": "python",
   "pygments_lexer": "ipython3",
   "version": "3.11.4"
  }
 },
 "nbformat": 4,
 "nbformat_minor": 5
}
